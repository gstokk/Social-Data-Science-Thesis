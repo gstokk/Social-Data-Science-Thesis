{
 "cells": [
  {
   "cell_type": "code",
   "execution_count": 1,
   "id": "d7867ea2",
   "metadata": {
    "scrolled": false
   },
   "outputs": [],
   "source": [
    "import pandas as pd\n",
    "import numpy as np\n",
    "import spacy\n",
    "import re\n",
    "import pickle\n",
    "import torch\n",
    "# import cuml\n",
    "\n",
    "from scipy.stats import pearsonr\n",
    "from sklearn.feature_selection import chi2\n",
    "from tqdm import tqdm\n",
    "from sklearn.linear_model import LogisticRegression, LinearRegression\n",
    "from sklearn.model_selection import train_test_split, learning_curve, GridSearchCV\n",
    "from sklearn.feature_extraction.text import TfidfVectorizer\n",
    "from sklearn.metrics import accuracy_score, recall_score, precision_score, f1_score, classification_report\n",
    "from sklearn.metrics import confusion_matrix as cf_matrix"
   ]
  },
  {
   "cell_type": "code",
   "execution_count": 2,
   "id": "0d1bdb7f",
   "metadata": {},
   "outputs": [
    {
     "name": "stdout",
     "output_type": "stream",
     "text": [
      "__CUDNN VERSION: 8500\n",
      "__Number CUDA Devices: 3\n",
      "__CUDA Device Name: Tesla V100-PCIE-32GB\n",
      "__CUDA Device Total Memory [GB]: 34.089926656\n"
     ]
    }
   ],
   "source": [
    "if torch.cuda.is_available():\n",
    "    print('__CUDNN VERSION:', torch.backends.cudnn.version())\n",
    "    print('__Number CUDA Devices:', torch.cuda.device_count())\n",
    "    print('__CUDA Device Name:',torch.cuda.get_device_name(0))\n",
    "    print('__CUDA Device Total Memory [GB]:',torch.cuda.get_device_properties(0).total_memory/1e9)"
   ]
  },
  {
   "cell_type": "code",
   "execution_count": 3,
   "id": "9facd1a4",
   "metadata": {},
   "outputs": [],
   "source": [
    "device = torch.device(\"cuda\" if torch.cuda.is_available() else \"cpu\")"
   ]
  },
  {
   "cell_type": "code",
   "execution_count": 4,
   "id": "46af12e0",
   "metadata": {},
   "outputs": [],
   "source": [
    "df = pd.read_csv(r\"/maps/hdir/gsw508/Thesis/Data/ParlSpeech_V2/Corp_Congreso_V2.csv\")"
   ]
  },
  {
   "cell_type": "code",
   "execution_count": 5,
   "id": "808f66f6",
   "metadata": {},
   "outputs": [],
   "source": [
    "cmp_df = pd.read_csv(\"/maps/hdir/gsw508/Thesis/Data/MPDataset_MPDS2022a.csv\")"
   ]
  },
  {
   "cell_type": "code",
   "execution_count": 6,
   "id": "2f5f594b",
   "metadata": {},
   "outputs": [
    {
     "data": {
      "text/plain": [
       "array(['Sweden', 'Norway', 'Denmark', 'Finland', 'Iceland', 'Belgium',\n",
       "       'Netherlands', 'Luxembourg', 'France', 'Italy', 'Spain', 'Greece',\n",
       "       'Portugal', 'Germany', 'Austria', 'Switzerland', 'United Kingdom',\n",
       "       'Northern Ireland', 'Ireland', 'Malta', 'Cyprus', 'United States',\n",
       "       'Canada', 'Australia', 'New Zealand', 'Japan', 'Israel',\n",
       "       'Sri Lanka', 'Turkey', 'Albania', 'Armenia', 'Azerbaijan',\n",
       "       'Belarus', 'Bosnia-Herzegovina', 'Bulgaria', 'Croatia',\n",
       "       'Czech Republic', 'Estonia', 'Georgia',\n",
       "       'German Democratic Republic', 'Hungary', 'Latvia', 'Lithuania',\n",
       "       'North Macedonia', 'Moldova', 'Montenegro', 'Poland', 'Romania',\n",
       "       'Russia', 'Serbia', 'Slovakia', 'Slovenia', 'Ukraine',\n",
       "       'South Korea', 'Mexico', 'South Africa'], dtype=object)"
      ]
     },
     "execution_count": 6,
     "metadata": {},
     "output_type": "execute_result"
    }
   ],
   "source": [
    "cmp_df['countryname'].unique()"
   ]
  },
  {
   "cell_type": "code",
   "execution_count": 7,
   "id": "94aafe7e",
   "metadata": {},
   "outputs": [
    {
     "data": {
      "text/plain": [
       "PNV/EAJ                   15\n",
       "ERC                       15\n",
       "PSOE                      15\n",
       "PP                        11\n",
       "CiU                       10\n",
       "IU                        10\n",
       "BNG                        6\n",
       "CC                         6\n",
       "PAR                        6\n",
       "PA                         6\n",
       "EA                         6\n",
       "EE                         5\n",
       "C's                        4\n",
       "AP                         4\n",
       "EH Bildu                   4\n",
       "CDS                        4\n",
       "PCE                        3\n",
       "UCD                        3\n",
       "UPN                        2\n",
       "JxCat                      2\n",
       "CCa-PNC-NC                 2\n",
       "PDP                        2\n",
       "VOX                        2\n",
       "CHA                        2\n",
       "CC-PNC                     2\n",
       "CDC                        1\n",
       "PRC                        1\n",
       "PL                         1\n",
       "Compromís–Podemos–EUPV     1\n",
       "DL                         1\n",
       "UP                         1\n",
       "FAC                        1\n",
       "UPyD                       1\n",
       "CUP                        1\n",
       "Name: partyabbrev, dtype: int64"
      ]
     },
     "execution_count": 7,
     "metadata": {},
     "output_type": "execute_result"
    }
   ],
   "source": [
    "cmp_df.loc[(cmp_df['countryname'] == 'Spain'), 'partyabbrev'].value_counts()"
   ]
  },
  {
   "cell_type": "code",
   "execution_count": 8,
   "id": "f3d8ba42",
   "metadata": {},
   "outputs": [
    {
     "data": {
      "text/plain": [
       "Spanish Socialist Workers’ Party                     15\n",
       "Basque Nationalist Party                             15\n",
       "Catalan Republican Left                              15\n",
       "People's Party                                       11\n",
       "United Left                                          10\n",
       "Convergence and Union                                10\n",
       "Galician Nationalist Bloc                             6\n",
       "Basque Solidarity                                     6\n",
       "Canarian Coalition                                    6\n",
       "Andalusian Party                                      6\n",
       "Basque Left                                           5\n",
       "Aragonese Regionalist Party                           4\n",
       "We can                                                4\n",
       "Centre Democrats                                      4\n",
       "Basque Country Unite                                  4\n",
       "Popular Alliance                                      4\n",
       "Citizens - Party of the Citizens                      4\n",
       "Communist Party of Spain                              3\n",
       "Union of the Democratic Centre/Centrist Bloc          3\n",
       "Canarian Coalition–New Canaries                       2\n",
       "Aragonist Council                                     2\n",
       "Popular Democratic Party                              2\n",
       "Voice                                                 2\n",
       "In Tide                                               2\n",
       "In Common We Can                                      2\n",
       "Canarian Coalition and Canarian Nationalist Party     2\n",
       "Together for Catalonia                                2\n",
       "Aragonese Party                                       2\n",
       "More Commitment                                       2\n",
       "Navarrese People's Union                              2\n",
       "Popular Unity Candidacy                               1\n",
       "Regionalist Party of Cantabria                        1\n",
       "Democratic Convergence of Catalonia                   1\n",
       "More Country - Equo                                   1\n",
       "Valencian style                                       1\n",
       "Commitment-Q                                          1\n",
       "United We Can                                         1\n",
       "Democracy and Freedom                                 1\n",
       "Commitment-We can-It is time                          1\n",
       "Popular Unity                                         1\n",
       "Forum Asturias                                        1\n",
       "Union, Progress and Democracy                         1\n",
       "Amaiur                                                1\n",
       "Future Yes                                            1\n",
       "Liberal Party                                         1\n",
       "Teruel exists                                         1\n",
       "Name: partyname, dtype: int64"
      ]
     },
     "execution_count": 8,
     "metadata": {},
     "output_type": "execute_result"
    }
   ],
   "source": [
    "cmp_df.loc[(cmp_df['countryname'] == 'Spain'), 'partyname'].value_counts()"
   ]
  },
  {
   "cell_type": "code",
   "execution_count": 9,
   "id": "90dc3a9f",
   "metadata": {},
   "outputs": [],
   "source": [
    "party_df = df.loc[df['party'].isna() == False]"
   ]
  },
  {
   "cell_type": "code",
   "execution_count": 10,
   "id": "366d1d62",
   "metadata": {
    "scrolled": false
   },
   "outputs": [
    {
     "data": {
      "text/plain": [
       "1638    40\n",
       "Name: parfam, dtype: int64"
      ]
     },
     "execution_count": 10,
     "metadata": {},
     "output_type": "execute_result"
    }
   ],
   "source": [
    "cmp_df.loc[(cmp_df['countryname'] == 'Spain') & (cmp_df['partyabbrev'] == 'UPyD'), 'parfam']"
   ]
  },
  {
   "cell_type": "code",
   "execution_count": 11,
   "id": "7d910dd7",
   "metadata": {},
   "outputs": [
    {
     "data": {
      "text/html": [
       "<div>\n",
       "<style scoped>\n",
       "    .dataframe tbody tr th:only-of-type {\n",
       "        vertical-align: middle;\n",
       "    }\n",
       "\n",
       "    .dataframe tbody tr th {\n",
       "        vertical-align: top;\n",
       "    }\n",
       "\n",
       "    .dataframe thead th {\n",
       "        text-align: right;\n",
       "    }\n",
       "</style>\n",
       "<table border=\"1\" class=\"dataframe\">\n",
       "  <thead>\n",
       "    <tr style=\"text-align: right;\">\n",
       "      <th></th>\n",
       "      <th>date</th>\n",
       "      <th>agenda</th>\n",
       "      <th>speechnumber</th>\n",
       "      <th>speaker</th>\n",
       "      <th>party</th>\n",
       "      <th>party.facts.id</th>\n",
       "      <th>chair</th>\n",
       "      <th>terms</th>\n",
       "      <th>text</th>\n",
       "      <th>parliament</th>\n",
       "      <th>iso3country</th>\n",
       "    </tr>\n",
       "  </thead>\n",
       "  <tbody>\n",
       "    <tr>\n",
       "      <th>181825</th>\n",
       "      <td>2011-12-13</td>\n",
       "      <td>ELECCIÓN DE LA MESA DEL CONGRESO DE LOS DIPUTA...</td>\n",
       "      <td>7</td>\n",
       "      <td>Llamazares Trigo, Gaspar</td>\n",
       "      <td>GIP</td>\n",
       "      <td>NaN</td>\n",
       "      <td>False</td>\n",
       "      <td>100</td>\n",
       "      <td>Señor presidente, de acuerdo con el artículo 7...</td>\n",
       "      <td>ES-Congreso</td>\n",
       "      <td>ESP</td>\n",
       "    </tr>\n",
       "    <tr>\n",
       "      <th>181898</th>\n",
       "      <td>2011-12-19</td>\n",
       "      <td>DEBATE SOBRE LA INVESTIDURA DEL CANDIDATO A LA...</td>\n",
       "      <td>45</td>\n",
       "      <td>Lara Moya, Cayo</td>\n",
       "      <td>GIP</td>\n",
       "      <td>NaN</td>\n",
       "      <td>False</td>\n",
       "      <td>3990</td>\n",
       "      <td>Señor Rajoy, quiero sumarme a las felicitacion...</td>\n",
       "      <td>ES-Congreso</td>\n",
       "      <td>ESP</td>\n",
       "    </tr>\n",
       "    <tr>\n",
       "      <th>181900</th>\n",
       "      <td>2011-12-19</td>\n",
       "      <td>DEBATE SOBRE LA INVESTIDURA DEL CANDIDATO A LA...</td>\n",
       "      <td>47</td>\n",
       "      <td>Coscubiela Conesa, Joan</td>\n",
       "      <td>GIP</td>\n",
       "      <td>NaN</td>\n",
       "      <td>False</td>\n",
       "      <td>1160</td>\n",
       "      <td>Gracias, señor presidente. Señoras y señores d...</td>\n",
       "      <td>ES-Congreso</td>\n",
       "      <td>ESP</td>\n",
       "    </tr>\n",
       "    <tr>\n",
       "      <th>181902</th>\n",
       "      <td>2011-12-19</td>\n",
       "      <td>DEBATE SOBRE LA INVESTIDURA DEL CANDIDATO A LA...</td>\n",
       "      <td>49</td>\n",
       "      <td>Coscubiela Conesa, Joan</td>\n",
       "      <td>GIP</td>\n",
       "      <td>NaN</td>\n",
       "      <td>False</td>\n",
       "      <td>164</td>\n",
       "      <td>Termino en un segundo. Ha defendido usted prop...</td>\n",
       "      <td>ES-Congreso</td>\n",
       "      <td>ESP</td>\n",
       "    </tr>\n",
       "    <tr>\n",
       "      <th>181904</th>\n",
       "      <td>2011-12-19</td>\n",
       "      <td>DEBATE SOBRE LA INVESTIDURA DEL CANDIDATO A LA...</td>\n",
       "      <td>51</td>\n",
       "      <td>Coscubiela Conesa, Joan</td>\n",
       "      <td>GIP</td>\n",
       "      <td>NaN</td>\n",
       "      <td>False</td>\n",
       "      <td>22</td>\n",
       "      <td>...lleva a Iniciativa per Catalunya Verds a vo...</td>\n",
       "      <td>ES-Congreso</td>\n",
       "      <td>ESP</td>\n",
       "    </tr>\n",
       "    <tr>\n",
       "      <th>...</th>\n",
       "      <td>...</td>\n",
       "      <td>...</td>\n",
       "      <td>...</td>\n",
       "      <td>...</td>\n",
       "      <td>...</td>\n",
       "      <td>...</td>\n",
       "      <td>...</td>\n",
       "      <td>...</td>\n",
       "      <td>...</td>\n",
       "      <td>...</td>\n",
       "      <td>...</td>\n",
       "    </tr>\n",
       "    <tr>\n",
       "      <th>233820</th>\n",
       "      <td>2015-10-20</td>\n",
       "      <td>PROYECTO DE LEY DE PRESUPUESTOS GENERALES DEL ...</td>\n",
       "      <td>108</td>\n",
       "      <td>Coscubiela Conesa, Joan</td>\n",
       "      <td>GIP</td>\n",
       "      <td>NaN</td>\n",
       "      <td>False</td>\n",
       "      <td>317</td>\n",
       "      <td>Gracias, señor presidente. Señorías, qué sabio...</td>\n",
       "      <td>ES-Congreso</td>\n",
       "      <td>ESP</td>\n",
       "    </tr>\n",
       "    <tr>\n",
       "      <th>233822</th>\n",
       "      <td>2015-10-20</td>\n",
       "      <td>PROYECTO DE LEY DE PRESUPUESTOS GENERALES DEL ...</td>\n",
       "      <td>110</td>\n",
       "      <td>Coscubiela Conesa, Joan</td>\n",
       "      <td>GIP</td>\n",
       "      <td>NaN</td>\n",
       "      <td>False</td>\n",
       "      <td>1194</td>\n",
       "      <td>Gracias, señor presidente. Me temo que le van ...</td>\n",
       "      <td>ES-Congreso</td>\n",
       "      <td>ESP</td>\n",
       "    </tr>\n",
       "    <tr>\n",
       "      <th>233962</th>\n",
       "      <td>2015-10-21</td>\n",
       "      <td>DEL DIPUTADO DON CAYO LARA MOYA, DEL GRUPO PAR...</td>\n",
       "      <td>75</td>\n",
       "      <td>Lara Moya, Cayo</td>\n",
       "      <td>GIP</td>\n",
       "      <td>NaN</td>\n",
       "      <td>False</td>\n",
       "      <td>18</td>\n",
       "      <td>Gracias, presidente. Señor ministro, ¿en qué f...</td>\n",
       "      <td>ES-Congreso</td>\n",
       "      <td>ESP</td>\n",
       "    </tr>\n",
       "    <tr>\n",
       "      <th>233966</th>\n",
       "      <td>2015-10-21</td>\n",
       "      <td>DEL DIPUTADO DON CAYO LARA MOYA, DEL GRUPO PAR...</td>\n",
       "      <td>79</td>\n",
       "      <td>Lara Moya, Cayo</td>\n",
       "      <td>GIP</td>\n",
       "      <td>NaN</td>\n",
       "      <td>False</td>\n",
       "      <td>382</td>\n",
       "      <td>Señor ministro, hace treinta años que este paí...</td>\n",
       "      <td>ES-Congreso</td>\n",
       "      <td>ESP</td>\n",
       "    </tr>\n",
       "    <tr>\n",
       "      <th>234058</th>\n",
       "      <td>2015-12-01</td>\n",
       "      <td>REAL DECRETO-LEY 12/2015, DE 30 DE OCTUBRE, PO...</td>\n",
       "      <td>10</td>\n",
       "      <td>Lara Moya, Cayo</td>\n",
       "      <td>GIP</td>\n",
       "      <td>NaN</td>\n",
       "      <td>False</td>\n",
       "      <td>701</td>\n",
       "      <td>Gracias, señor presidente. Previamente a trata...</td>\n",
       "      <td>ES-Congreso</td>\n",
       "      <td>ESP</td>\n",
       "    </tr>\n",
       "  </tbody>\n",
       "</table>\n",
       "<p>2289 rows × 11 columns</p>\n",
       "</div>"
      ],
      "text/plain": [
       "              date                                             agenda  \\\n",
       "181825  2011-12-13  ELECCIÓN DE LA MESA DEL CONGRESO DE LOS DIPUTA...   \n",
       "181898  2011-12-19  DEBATE SOBRE LA INVESTIDURA DEL CANDIDATO A LA...   \n",
       "181900  2011-12-19  DEBATE SOBRE LA INVESTIDURA DEL CANDIDATO A LA...   \n",
       "181902  2011-12-19  DEBATE SOBRE LA INVESTIDURA DEL CANDIDATO A LA...   \n",
       "181904  2011-12-19  DEBATE SOBRE LA INVESTIDURA DEL CANDIDATO A LA...   \n",
       "...            ...                                                ...   \n",
       "233820  2015-10-20  PROYECTO DE LEY DE PRESUPUESTOS GENERALES DEL ...   \n",
       "233822  2015-10-20  PROYECTO DE LEY DE PRESUPUESTOS GENERALES DEL ...   \n",
       "233962  2015-10-21  DEL DIPUTADO DON CAYO LARA MOYA, DEL GRUPO PAR...   \n",
       "233966  2015-10-21  DEL DIPUTADO DON CAYO LARA MOYA, DEL GRUPO PAR...   \n",
       "234058  2015-12-01  REAL DECRETO-LEY 12/2015, DE 30 DE OCTUBRE, PO...   \n",
       "\n",
       "        speechnumber                     speaker party  party.facts.id  chair  \\\n",
       "181825             7  Llamazares Trigo, Gaspar     GIP             NaN  False   \n",
       "181898            45           Lara Moya, Cayo     GIP             NaN  False   \n",
       "181900            47   Coscubiela Conesa, Joan     GIP             NaN  False   \n",
       "181902            49   Coscubiela Conesa, Joan     GIP             NaN  False   \n",
       "181904            51   Coscubiela Conesa, Joan     GIP             NaN  False   \n",
       "...              ...                         ...   ...             ...    ...   \n",
       "233820           108   Coscubiela Conesa, Joan     GIP             NaN  False   \n",
       "233822           110   Coscubiela Conesa, Joan     GIP             NaN  False   \n",
       "233962            75           Lara Moya, Cayo     GIP             NaN  False   \n",
       "233966            79           Lara Moya, Cayo     GIP             NaN  False   \n",
       "234058            10           Lara Moya, Cayo     GIP             NaN  False   \n",
       "\n",
       "        terms                                               text   parliament  \\\n",
       "181825    100  Señor presidente, de acuerdo con el artículo 7...  ES-Congreso   \n",
       "181898   3990  Señor Rajoy, quiero sumarme a las felicitacion...  ES-Congreso   \n",
       "181900   1160  Gracias, señor presidente. Señoras y señores d...  ES-Congreso   \n",
       "181902    164  Termino en un segundo. Ha defendido usted prop...  ES-Congreso   \n",
       "181904     22  ...lleva a Iniciativa per Catalunya Verds a vo...  ES-Congreso   \n",
       "...       ...                                                ...          ...   \n",
       "233820    317  Gracias, señor presidente. Señorías, qué sabio...  ES-Congreso   \n",
       "233822   1194  Gracias, señor presidente. Me temo que le van ...  ES-Congreso   \n",
       "233962     18  Gracias, presidente. Señor ministro, ¿en qué f...  ES-Congreso   \n",
       "233966    382  Señor ministro, hace treinta años que este paí...  ES-Congreso   \n",
       "234058    701  Gracias, señor presidente. Previamente a trata...  ES-Congreso   \n",
       "\n",
       "       iso3country  \n",
       "181825         ESP  \n",
       "181898         ESP  \n",
       "181900         ESP  \n",
       "181902         ESP  \n",
       "181904         ESP  \n",
       "...            ...  \n",
       "233820         ESP  \n",
       "233822         ESP  \n",
       "233962         ESP  \n",
       "233966         ESP  \n",
       "234058         ESP  \n",
       "\n",
       "[2289 rows x 11 columns]"
      ]
     },
     "execution_count": 11,
     "metadata": {},
     "output_type": "execute_result"
    }
   ],
   "source": [
    "party_df.loc[party_df['party'] == 'GIP']"
   ]
  },
  {
   "cell_type": "code",
   "execution_count": 12,
   "id": "a5506f93",
   "metadata": {
    "scrolled": true
   },
   "outputs": [
    {
     "data": {
      "text/plain": [
       "GPP           32420\n",
       "GPSOE         28302\n",
       "GMX           13881\n",
       "GC-CiU         7916\n",
       "GV EAJ-PNV     4737\n",
       "GIU            4084\n",
       "GIP            2289\n",
       "GER-IU-ICV     1784\n",
       "GV-PNV         1722\n",
       "GUPyD          1670\n",
       "GCUP-EC-EM     1619\n",
       "GCC            1613\n",
       "GIU-ICV        1446\n",
       "GER-ERC        1377\n",
       "GCs            1197\n",
       "GER             856\n",
       "GCC-NC          200\n",
       "GC-DL            54\n",
       "Name: party, dtype: int64"
      ]
     },
     "execution_count": 12,
     "metadata": {},
     "output_type": "execute_result"
    }
   ],
   "source": [
    "party_df['party'].value_counts()"
   ]
  },
  {
   "cell_type": "code",
   "execution_count": 13,
   "id": "692038d7",
   "metadata": {},
   "outputs": [],
   "source": [
    "# Partyfam 10, 20, 30\n",
    "left_list = ['GPSOE', 'GIU', 'GIP', 'GCUP-EC-EM']\n",
    "\n",
    "# Difficult distinction between left and ethnic. Errs towards ethnic if unsure."
   ]
  },
  {
   "cell_type": "code",
   "execution_count": 14,
   "id": "11524d25",
   "metadata": {
    "scrolled": true
   },
   "outputs": [
    {
     "name": "stderr",
     "output_type": "stream",
     "text": [
      "/tmp/ipykernel_36979/3910170133.py:1: SettingWithCopyWarning: \n",
      "A value is trying to be set on a copy of a slice from a DataFrame.\n",
      "Try using .loc[row_indexer,col_indexer] = value instead\n",
      "\n",
      "See the caveats in the documentation: https://pandas.pydata.org/pandas-docs/stable/user_guide/indexing.html#returning-a-view-versus-a-copy\n",
      "  party_df['left'] = 0\n"
     ]
    }
   ],
   "source": [
    "party_df['left'] = 0"
   ]
  },
  {
   "cell_type": "code",
   "execution_count": 15,
   "id": "6e4761d0",
   "metadata": {},
   "outputs": [],
   "source": [
    "party_df.loc[party_df['party'].isin(left_list), 'left'] = 1"
   ]
  },
  {
   "cell_type": "code",
   "execution_count": 16,
   "id": "dceb4aa9",
   "metadata": {},
   "outputs": [
    {
     "data": {
      "text/plain": [
       "0    70873\n",
       "1    36294\n",
       "Name: left, dtype: int64"
      ]
     },
     "execution_count": 16,
     "metadata": {},
     "output_type": "execute_result"
    }
   ],
   "source": [
    "party_df['left'].value_counts()"
   ]
  },
  {
   "cell_type": "code",
   "execution_count": 17,
   "id": "679f8485",
   "metadata": {},
   "outputs": [],
   "source": [
    "party_df = party_df.loc[party_df['terms'] > 40]"
   ]
  },
  {
   "cell_type": "code",
   "execution_count": 18,
   "id": "43623302",
   "metadata": {},
   "outputs": [],
   "source": [
    "party_df.to_json('esp_party_df.json')"
   ]
  },
  {
   "cell_type": "markdown",
   "id": "636eaf4d",
   "metadata": {},
   "source": [
    "socio-economic (class); religious (church–state); ethnic (center–periphery); urban–rural; post-materialist; and foreign policy"
   ]
  },
  {
   "cell_type": "code",
   "execution_count": 18,
   "id": "bf5e8c77",
   "metadata": {},
   "outputs": [],
   "source": [
    "def preprocess(text):\n",
    "    'Creating preprocessing pipeline'\n",
    "\n",
    "    # Lowercasing\n",
    "    text = text.lower()\n",
    "\n",
    "    # Removing punctuation\n",
    "    text = re.sub(r'[()\\.\\,\\?\\!\\\"\\'\\-\\`\\:\\;\\\\\\%\\*\\[\\]]+','', text)\n",
    "\n",
    "    return text"
   ]
  },
  {
   "cell_type": "code",
   "execution_count": 19,
   "id": "9a99afac",
   "metadata": {},
   "outputs": [],
   "source": [
    "nlp = spacy.load(\"xx_sent_ud_sm\")\n",
    "def token(text):\n",
    "    doc = nlp(text)\n",
    "    return [token.text for token in doc]"
   ]
  },
  {
   "cell_type": "code",
   "execution_count": 20,
   "id": "46332391",
   "metadata": {},
   "outputs": [],
   "source": [
    "df_preprocessed = party_df['text'].apply(lambda x: preprocess(x))"
   ]
  },
  {
   "cell_type": "code",
   "execution_count": 21,
   "id": "fe741985",
   "metadata": {
    "scrolled": true
   },
   "outputs": [
    {
     "data": {
      "text/plain": [
       "35        señor presidente comparezco ante ss ss para so...\n",
       "38        señor presidente señorías subo a la tribuna pa...\n",
       "40        señor presidente señorías en primer lugar quie...\n",
       "42        muchas gracias señor presidente señorías inten...\n",
       "44        señor presidente señorías voy a contestar con ...\n",
       "                                ...                        \n",
       "262185    gracias presidente compañeros diputados compañ...\n",
       "262187    gracias presidente estamos cansados pero nos e...\n",
       "262189    gracias señora presidenta señoras diputadas y ...\n",
       "262191    como les decía mi grupo votó favorablemente po...\n",
       "262193     de entender la aplicación de este artículo 13...\n",
       "Name: text, Length: 93493, dtype: object"
      ]
     },
     "execution_count": 21,
     "metadata": {},
     "output_type": "execute_result"
    }
   ],
   "source": [
    "df_preprocessed"
   ]
  },
  {
   "cell_type": "code",
   "execution_count": 22,
   "id": "aae1d3d0",
   "metadata": {},
   "outputs": [],
   "source": [
    "# Vectorizing \n",
    "vectorizer = TfidfVectorizer(min_df= 0.0001) # Default N-gram range is (1,1)\n",
    "esp_features = vectorizer.fit_transform(df_preprocessed)"
   ]
  },
  {
   "cell_type": "code",
   "execution_count": 23,
   "id": "777c3b32",
   "metadata": {},
   "outputs": [],
   "source": [
    "pickle.dump(vectorizer, open(\"esp_vectorizer.pickle\", \"wb\"))\n",
    "pickle.dump(esp_features, open(\"esp_features.pickle\", \"wb\"))"
   ]
  }
 ],
 "metadata": {
  "kernelspec": {
   "display_name": "Python 3 (ipykernel)",
   "language": "python",
   "name": "python3"
  },
  "language_info": {
   "codemirror_mode": {
    "name": "ipython",
    "version": 3
   },
   "file_extension": ".py",
   "mimetype": "text/x-python",
   "name": "python",
   "nbconvert_exporter": "python",
   "pygments_lexer": "ipython3",
   "version": "3.9.13"
  }
 },
 "nbformat": 4,
 "nbformat_minor": 5
}
