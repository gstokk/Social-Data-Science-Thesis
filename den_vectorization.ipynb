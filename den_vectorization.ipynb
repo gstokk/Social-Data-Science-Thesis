{
 "cells": [
  {
   "cell_type": "code",
   "execution_count": 1,
   "id": "d7867ea2",
   "metadata": {
    "scrolled": false
   },
   "outputs": [],
   "source": [
    "import pandas as pd\n",
    "import numpy as np\n",
    "import spacy\n",
    "import re\n",
    "import pickle\n",
    "import torch\n",
    "# import cuml\n",
    "\n",
    "from scipy.stats import pearsonr\n",
    "from sklearn.feature_selection import chi2\n",
    "from tqdm import tqdm\n",
    "from sklearn.linear_model import LogisticRegression, LinearRegression\n",
    "from sklearn.model_selection import train_test_split, learning_curve, GridSearchCV\n",
    "from sklearn.feature_extraction.text import TfidfVectorizer\n",
    "from sklearn.metrics import accuracy_score, recall_score, precision_score, f1_score, classification_report\n",
    "from sklearn.metrics import confusion_matrix as cf_matrix"
   ]
  },
  {
   "cell_type": "code",
   "execution_count": 2,
   "id": "0d1bdb7f",
   "metadata": {},
   "outputs": [
    {
     "name": "stdout",
     "output_type": "stream",
     "text": [
      "__CUDNN VERSION: 8500\n",
      "__Number CUDA Devices: 3\n",
      "__CUDA Device Name: Tesla V100-PCIE-32GB\n",
      "__CUDA Device Total Memory [GB]: 34.089926656\n"
     ]
    }
   ],
   "source": [
    "if torch.cuda.is_available():\n",
    "    print('__CUDNN VERSION:', torch.backends.cudnn.version())\n",
    "    print('__Number CUDA Devices:', torch.cuda.device_count())\n",
    "    print('__CUDA Device Name:',torch.cuda.get_device_name(0))\n",
    "    print('__CUDA Device Total Memory [GB]:',torch.cuda.get_device_properties(0).total_memory/1e9)"
   ]
  },
  {
   "cell_type": "code",
   "execution_count": 3,
   "id": "9facd1a4",
   "metadata": {},
   "outputs": [],
   "source": [
    "device = torch.device(\"cuda\" if torch.cuda.is_available() else \"cpu\")"
   ]
  },
  {
   "cell_type": "code",
   "execution_count": 4,
   "id": "46af12e0",
   "metadata": {},
   "outputs": [],
   "source": [
    "df = pd.read_csv(r\"/maps/hdir/gsw508/Thesis/Data/ParlSpeech_V2/Corp_Folketing_V2.csv\")"
   ]
  },
  {
   "cell_type": "code",
   "execution_count": 5,
   "id": "9594e558",
   "metadata": {},
   "outputs": [
    {
     "data": {
      "text/html": [
       "<div>\n",
       "<style scoped>\n",
       "    .dataframe tbody tr th:only-of-type {\n",
       "        vertical-align: middle;\n",
       "    }\n",
       "\n",
       "    .dataframe tbody tr th {\n",
       "        vertical-align: top;\n",
       "    }\n",
       "\n",
       "    .dataframe thead th {\n",
       "        text-align: right;\n",
       "    }\n",
       "</style>\n",
       "<table border=\"1\" class=\"dataframe\">\n",
       "  <thead>\n",
       "    <tr style=\"text-align: right;\">\n",
       "      <th></th>\n",
       "      <th>date</th>\n",
       "      <th>agenda</th>\n",
       "      <th>speechnumber</th>\n",
       "      <th>speaker</th>\n",
       "      <th>party</th>\n",
       "      <th>party.facts.id</th>\n",
       "      <th>chair</th>\n",
       "      <th>terms</th>\n",
       "      <th>text</th>\n",
       "      <th>parliament</th>\n",
       "      <th>iso3country</th>\n",
       "    </tr>\n",
       "  </thead>\n",
       "  <tbody>\n",
       "    <tr>\n",
       "      <th>0</th>\n",
       "      <td>1997-10-07</td>\n",
       "      <td>Dagsorden</td>\n",
       "      <td>1</td>\n",
       "      <td>Gert Petersen</td>\n",
       "      <td>NaN</td>\n",
       "      <td>NaN</td>\n",
       "      <td>True</td>\n",
       "      <td>191</td>\n",
       "      <td>Mødet er åbnet. I henhold til grundloven er Fo...</td>\n",
       "      <td>DK-Folketing</td>\n",
       "      <td>DNK</td>\n",
       "    </tr>\n",
       "    <tr>\n",
       "      <th>1</th>\n",
       "      <td>1997-10-07</td>\n",
       "      <td>Dagsorden</td>\n",
       "      <td>2</td>\n",
       "      <td>Formanden</td>\n",
       "      <td>NaN</td>\n",
       "      <td>NaN</td>\n",
       "      <td>True</td>\n",
       "      <td>182</td>\n",
       "      <td>Jeg vil gerne takke Tinget for den tillid, man...</td>\n",
       "      <td>DK-Folketing</td>\n",
       "      <td>DNK</td>\n",
       "    </tr>\n",
       "    <tr>\n",
       "      <th>2</th>\n",
       "      <td>1997-10-07</td>\n",
       "      <td>Statsministerens redegørelse i henhold til gru...</td>\n",
       "      <td>3</td>\n",
       "      <td>Poul Nyrup Rasmussen</td>\n",
       "      <td>S</td>\n",
       "      <td>379.0</td>\n",
       "      <td>False</td>\n",
       "      <td>18662</td>\n",
       "      <td>For 25 år siden sagde et flertal i befolkninge...</td>\n",
       "      <td>DK-Folketing</td>\n",
       "      <td>DNK</td>\n",
       "    </tr>\n",
       "    <tr>\n",
       "      <th>3</th>\n",
       "      <td>1997-10-09</td>\n",
       "      <td>1) Indstilling fra Udvalget til Valgs Prøvelse.</td>\n",
       "      <td>2</td>\n",
       "      <td>Formanden</td>\n",
       "      <td>NaN</td>\n",
       "      <td>NaN</td>\n",
       "      <td>True</td>\n",
       "      <td>47</td>\n",
       "      <td>Fra Udvalget til Valgs Prøvelse har jeg modtag...</td>\n",
       "      <td>DK-Folketing</td>\n",
       "      <td>DNK</td>\n",
       "    </tr>\n",
       "    <tr>\n",
       "      <th>4</th>\n",
       "      <td>1997-10-09</td>\n",
       "      <td>2) Forhandling om redegørelse nr. R 1.</td>\n",
       "      <td>3</td>\n",
       "      <td>Torben Lund</td>\n",
       "      <td>S</td>\n",
       "      <td>379.0</td>\n",
       "      <td>False</td>\n",
       "      <td>2865</td>\n",
       "      <td>Vi står over for en meget afgørende folketings...</td>\n",
       "      <td>DK-Folketing</td>\n",
       "      <td>DNK</td>\n",
       "    </tr>\n",
       "    <tr>\n",
       "      <th>...</th>\n",
       "      <td>...</td>\n",
       "      <td>...</td>\n",
       "      <td>...</td>\n",
       "      <td>...</td>\n",
       "      <td>...</td>\n",
       "      <td>...</td>\n",
       "      <td>...</td>\n",
       "      <td>...</td>\n",
       "      <td>...</td>\n",
       "      <td>...</td>\n",
       "      <td>...</td>\n",
       "    </tr>\n",
       "    <tr>\n",
       "      <th>772175</th>\n",
       "      <td>2018-12-20</td>\n",
       "      <td>2. (sidste) behandling af beslutningsforslag ...</td>\n",
       "      <td>330</td>\n",
       "      <td>Pia Kjærsgaard</td>\n",
       "      <td>NaN</td>\n",
       "      <td>NaN</td>\n",
       "      <td>True</td>\n",
       "      <td>28</td>\n",
       "      <td>Der stemmes om forslagets endelige vedtagelse....</td>\n",
       "      <td>DK-Folketing</td>\n",
       "      <td>DNK</td>\n",
       "    </tr>\n",
       "    <tr>\n",
       "      <th>772176</th>\n",
       "      <td>2018-12-20</td>\n",
       "      <td>2. (sidste) behandling af beslutningsforslag ...</td>\n",
       "      <td>331</td>\n",
       "      <td>Pia Kjærsgaard</td>\n",
       "      <td>NaN</td>\n",
       "      <td>NaN</td>\n",
       "      <td>True</td>\n",
       "      <td>22</td>\n",
       "      <td>Der er ikke stillet ændringsforslag.  Er der n...</td>\n",
       "      <td>DK-Folketing</td>\n",
       "      <td>DNK</td>\n",
       "    </tr>\n",
       "    <tr>\n",
       "      <th>772177</th>\n",
       "      <td>2018-12-20</td>\n",
       "      <td>2. (sidste) behandling af beslutningsforslag ...</td>\n",
       "      <td>332</td>\n",
       "      <td>Pia Kjærsgaard</td>\n",
       "      <td>NaN</td>\n",
       "      <td>NaN</td>\n",
       "      <td>True</td>\n",
       "      <td>37</td>\n",
       "      <td>Der stemmes om forslagets endelige vedtagelse....</td>\n",
       "      <td>DK-Folketing</td>\n",
       "      <td>DNK</td>\n",
       "    </tr>\n",
       "    <tr>\n",
       "      <th>772178</th>\n",
       "      <td>2018-12-20</td>\n",
       "      <td>2. (sidste) behandling af beslutningsforslag ...</td>\n",
       "      <td>333</td>\n",
       "      <td>Pia Kjærsgaard</td>\n",
       "      <td>NaN</td>\n",
       "      <td>NaN</td>\n",
       "      <td>True</td>\n",
       "      <td>61</td>\n",
       "      <td>Der er ikke mere at foretage i dette møde.  Fo...</td>\n",
       "      <td>DK-Folketing</td>\n",
       "      <td>DNK</td>\n",
       "    </tr>\n",
       "    <tr>\n",
       "      <th>772179</th>\n",
       "      <td>2018-12-20</td>\n",
       "      <td>2. (sidste) behandling af beslutningsforslag ...</td>\n",
       "      <td>334</td>\n",
       "      <td>Pia Kjærsgaard</td>\n",
       "      <td>NaN</td>\n",
       "      <td>NaN</td>\n",
       "      <td>True</td>\n",
       "      <td>270</td>\n",
       "      <td>Det bliver jo ikke et gensyn med folketingssek...</td>\n",
       "      <td>DK-Folketing</td>\n",
       "      <td>DNK</td>\n",
       "    </tr>\n",
       "  </tbody>\n",
       "</table>\n",
       "<p>772180 rows × 11 columns</p>\n",
       "</div>"
      ],
      "text/plain": [
       "              date                                             agenda  \\\n",
       "0       1997-10-07                                          Dagsorden   \n",
       "1       1997-10-07                                          Dagsorden   \n",
       "2       1997-10-07  Statsministerens redegørelse i henhold til gru...   \n",
       "3       1997-10-09    1) Indstilling fra Udvalget til Valgs Prøvelse.   \n",
       "4       1997-10-09             2) Forhandling om redegørelse nr. R 1.   \n",
       "...            ...                                                ...   \n",
       "772175  2018-12-20   2. (sidste) behandling af beslutningsforslag ...   \n",
       "772176  2018-12-20   2. (sidste) behandling af beslutningsforslag ...   \n",
       "772177  2018-12-20   2. (sidste) behandling af beslutningsforslag ...   \n",
       "772178  2018-12-20   2. (sidste) behandling af beslutningsforslag ...   \n",
       "772179  2018-12-20   2. (sidste) behandling af beslutningsforslag ...   \n",
       "\n",
       "        speechnumber               speaker party  party.facts.id  chair  \\\n",
       "0                  1         Gert Petersen   NaN             NaN   True   \n",
       "1                  2             Formanden   NaN             NaN   True   \n",
       "2                  3  Poul Nyrup Rasmussen     S           379.0  False   \n",
       "3                  2             Formanden   NaN             NaN   True   \n",
       "4                  3           Torben Lund     S           379.0  False   \n",
       "...              ...                   ...   ...             ...    ...   \n",
       "772175           330        Pia Kjærsgaard   NaN             NaN   True   \n",
       "772176           331        Pia Kjærsgaard   NaN             NaN   True   \n",
       "772177           332        Pia Kjærsgaard   NaN             NaN   True   \n",
       "772178           333        Pia Kjærsgaard   NaN             NaN   True   \n",
       "772179           334        Pia Kjærsgaard   NaN             NaN   True   \n",
       "\n",
       "        terms                                               text  \\\n",
       "0         191  Mødet er åbnet. I henhold til grundloven er Fo...   \n",
       "1         182  Jeg vil gerne takke Tinget for den tillid, man...   \n",
       "2       18662  For 25 år siden sagde et flertal i befolkninge...   \n",
       "3          47  Fra Udvalget til Valgs Prøvelse har jeg modtag...   \n",
       "4        2865  Vi står over for en meget afgørende folketings...   \n",
       "...       ...                                                ...   \n",
       "772175     28  Der stemmes om forslagets endelige vedtagelse....   \n",
       "772176     22  Der er ikke stillet ændringsforslag.  Er der n...   \n",
       "772177     37  Der stemmes om forslagets endelige vedtagelse....   \n",
       "772178     61  Der er ikke mere at foretage i dette møde.  Fo...   \n",
       "772179    270  Det bliver jo ikke et gensyn med folketingssek...   \n",
       "\n",
       "          parliament iso3country  \n",
       "0       DK-Folketing         DNK  \n",
       "1       DK-Folketing         DNK  \n",
       "2       DK-Folketing         DNK  \n",
       "3       DK-Folketing         DNK  \n",
       "4       DK-Folketing         DNK  \n",
       "...              ...         ...  \n",
       "772175  DK-Folketing         DNK  \n",
       "772176  DK-Folketing         DNK  \n",
       "772177  DK-Folketing         DNK  \n",
       "772178  DK-Folketing         DNK  \n",
       "772179  DK-Folketing         DNK  \n",
       "\n",
       "[772180 rows x 11 columns]"
      ]
     },
     "execution_count": 5,
     "metadata": {},
     "output_type": "execute_result"
    }
   ],
   "source": [
    "df"
   ]
  },
  {
   "cell_type": "code",
   "execution_count": 6,
   "id": "808f66f6",
   "metadata": {},
   "outputs": [],
   "source": [
    "cmp_df = pd.read_csv(\"/maps/hdir/gsw508/Thesis/Data/MPDataset_MPDS2022a.csv\")"
   ]
  },
  {
   "cell_type": "code",
   "execution_count": 7,
   "id": "2f5f594b",
   "metadata": {},
   "outputs": [
    {
     "data": {
      "text/plain": [
       "array(['Sweden', 'Norway', 'Denmark', 'Finland', 'Iceland', 'Belgium',\n",
       "       'Netherlands', 'Luxembourg', 'France', 'Italy', 'Spain', 'Greece',\n",
       "       'Portugal', 'Germany', 'Austria', 'Switzerland', 'United Kingdom',\n",
       "       'Northern Ireland', 'Ireland', 'Malta', 'Cyprus', 'United States',\n",
       "       'Canada', 'Australia', 'New Zealand', 'Japan', 'Israel',\n",
       "       'Sri Lanka', 'Turkey', 'Albania', 'Armenia', 'Azerbaijan',\n",
       "       'Belarus', 'Bosnia-Herzegovina', 'Bulgaria', 'Croatia',\n",
       "       'Czech Republic', 'Estonia', 'Georgia',\n",
       "       'German Democratic Republic', 'Hungary', 'Latvia', 'Lithuania',\n",
       "       'North Macedonia', 'Moldova', 'Montenegro', 'Poland', 'Romania',\n",
       "       'Russia', 'Serbia', 'Slovakia', 'Slovenia', 'Ukraine',\n",
       "       'South Korea', 'Mexico', 'South Africa'], dtype=object)"
      ]
     },
     "execution_count": 7,
     "metadata": {},
     "output_type": "execute_result"
    }
   ],
   "source": [
    "cmp_df['countryname'].unique()"
   ]
  },
  {
   "cell_type": "code",
   "execution_count": 8,
   "id": "94aafe7e",
   "metadata": {},
   "outputs": [
    {
     "data": {
      "text/plain": [
       "RV     28\n",
       "V      28\n",
       "KF     28\n",
       "SD     28\n",
       "SF     22\n",
       "DKP    17\n",
       "RF     17\n",
       "KrF    13\n",
       "CD     12\n",
       "FP     11\n",
       "EL      8\n",
       "VS      8\n",
       "DF      7\n",
       "DU      6\n",
       "LC      2\n",
       "FK      1\n",
       "DS      1\n",
       "K       1\n",
       "NY      1\n",
       "Name: partyabbrev, dtype: int64"
      ]
     },
     "execution_count": 8,
     "metadata": {},
     "output_type": "execute_result"
    }
   ],
   "source": [
    "cmp_df.loc[(cmp_df['countryname'] == 'Denmark'), 'partyabbrev'].value_counts()"
   ]
  },
  {
   "cell_type": "code",
   "execution_count": 9,
   "id": "f3d8ba42",
   "metadata": {
    "scrolled": false
   },
   "outputs": [
    {
     "data": {
      "text/plain": [
       "Danish Social-Liberal Party    28\n",
       "Liberals                       28\n",
       "Conservative People’s Party    28\n",
       "Social Democratic Party        28\n",
       "Socialist People’s Party       22\n",
       "Danish Communist Party         17\n",
       "Justice Party                  17\n",
       "Christian People’s Party       13\n",
       "Centre Democrats               12\n",
       "Progress Party                 11\n",
       "Left Socialist Party            8\n",
       "Red-Green Unity List            8\n",
       "Danish People’s Party           7\n",
       "Independents’ Party             6\n",
       "Liberal Alliance                3\n",
       "Liberal Centre                  2\n",
       "Alternativ                      2\n",
       "Danish Union                    1\n",
       "Common Course                   1\n",
       "Christian Democrats             1\n",
       "New Alliance                    1\n",
       "The New Right                   1\n",
       "Name: partyname, dtype: int64"
      ]
     },
     "execution_count": 9,
     "metadata": {},
     "output_type": "execute_result"
    }
   ],
   "source": [
    "cmp_df.loc[(cmp_df['countryname'] == 'Denmark'), 'partyname'].value_counts()"
   ]
  },
  {
   "cell_type": "code",
   "execution_count": 10,
   "id": "90dc3a9f",
   "metadata": {},
   "outputs": [],
   "source": [
    "party_df = df.loc[df['party'].isna() == False]"
   ]
  },
  {
   "cell_type": "code",
   "execution_count": 11,
   "id": "366d1d62",
   "metadata": {
    "scrolled": false
   },
   "outputs": [
    {
     "data": {
      "text/plain": [
       "354    60\n",
       "365    60\n",
       "376    60\n",
       "387    60\n",
       "398    60\n",
       "409    60\n",
       "419    60\n",
       "427    60\n",
       "435    60\n",
       "444    60\n",
       "453    60\n",
       "471    60\n",
       "Name: parfam, dtype: int64"
      ]
     },
     "execution_count": 11,
     "metadata": {},
     "output_type": "execute_result"
    }
   ],
   "source": [
    "cmp_df.loc[(cmp_df['countryname'] == 'Denmark') & (cmp_df['partyname'] == 'Centre Democrats'), 'parfam']"
   ]
  },
  {
   "cell_type": "code",
   "execution_count": 12,
   "id": "a5506f93",
   "metadata": {
    "scrolled": false
   },
   "outputs": [
    {
     "data": {
      "text/plain": [
       "S      92651\n",
       "V      92381\n",
       "DF     58199\n",
       "EL     54971\n",
       "SF     47481\n",
       "KF     41518\n",
       "RV     34322\n",
       "LA     14804\n",
       "ALT     5819\n",
       "KRF     4769\n",
       "CD      3363\n",
       "FP      1693\n",
       "KD      1460\n",
       "UP      1198\n",
       "IA       933\n",
       "FRI      918\n",
       "UFG      891\n",
       "T        634\n",
       "NY       591\n",
       "SIU      406\n",
       "SP       145\n",
       "NQ        85\n",
       "FF        44\n",
       "LH         9\n",
       "JF         4\n",
       "Name: party, dtype: int64"
      ]
     },
     "execution_count": 12,
     "metadata": {},
     "output_type": "execute_result"
    }
   ],
   "source": [
    "party_df['party'].value_counts()"
   ]
  },
  {
   "cell_type": "code",
   "execution_count": 13,
   "id": "692038d7",
   "metadata": {},
   "outputs": [],
   "source": [
    "# Partyfam 10, 20, 30\n",
    "left_list = ['SD', 'SF', 'EL', 'ALT']\n",
    "\n",
    "# Parties from Greenland and Faroe Islands are not categorized by the CMP. They will be considered partyfam 90 - ethnic."
   ]
  },
  {
   "cell_type": "code",
   "execution_count": 14,
   "id": "07888ad4",
   "metadata": {},
   "outputs": [
    {
     "data": {
      "text/html": [
       "<div>\n",
       "<style scoped>\n",
       "    .dataframe tbody tr th:only-of-type {\n",
       "        vertical-align: middle;\n",
       "    }\n",
       "\n",
       "    .dataframe tbody tr th {\n",
       "        vertical-align: top;\n",
       "    }\n",
       "\n",
       "    .dataframe thead th {\n",
       "        text-align: right;\n",
       "    }\n",
       "</style>\n",
       "<table border=\"1\" class=\"dataframe\">\n",
       "  <thead>\n",
       "    <tr style=\"text-align: right;\">\n",
       "      <th></th>\n",
       "      <th>date</th>\n",
       "      <th>agenda</th>\n",
       "      <th>speechnumber</th>\n",
       "      <th>speaker</th>\n",
       "      <th>party</th>\n",
       "      <th>party.facts.id</th>\n",
       "      <th>chair</th>\n",
       "      <th>terms</th>\n",
       "      <th>text</th>\n",
       "      <th>parliament</th>\n",
       "      <th>iso3country</th>\n",
       "    </tr>\n",
       "  </thead>\n",
       "  <tbody>\n",
       "    <tr>\n",
       "      <th>76285</th>\n",
       "      <td>2001-12-06</td>\n",
       "      <td>1) Forhandling om redegørelse nr. R 1:</td>\n",
       "      <td>177</td>\n",
       "      <td>Lars Emil Johansen</td>\n",
       "      <td>SIU</td>\n",
       "      <td>6651.0</td>\n",
       "      <td>False</td>\n",
       "      <td>1137</td>\n",
       "      <td>Tak. Efter at have været uden for Folketinget ...</td>\n",
       "      <td>DK-Folketing</td>\n",
       "      <td>DNK</td>\n",
       "    </tr>\n",
       "    <tr>\n",
       "      <th>76302</th>\n",
       "      <td>2001-12-06</td>\n",
       "      <td>1) Forhandling om redegørelse nr. R 1:</td>\n",
       "      <td>194</td>\n",
       "      <td>Lars Emil Johansen</td>\n",
       "      <td>SIU</td>\n",
       "      <td>6651.0</td>\n",
       "      <td>False</td>\n",
       "      <td>137</td>\n",
       "      <td>Statsministeren nævnte, at 1951-aftalen skam v...</td>\n",
       "      <td>DK-Folketing</td>\n",
       "      <td>DNK</td>\n",
       "    </tr>\n",
       "    <tr>\n",
       "      <th>80792</th>\n",
       "      <td>2002-02-01</td>\n",
       "      <td>1) Første behandling af lovforslag nr. L 70: F...</td>\n",
       "      <td>310</td>\n",
       "      <td>Lars-Emil Johansen</td>\n",
       "      <td>SIU</td>\n",
       "      <td>6651.0</td>\n",
       "      <td>False</td>\n",
       "      <td>2345</td>\n",
       "      <td>For en enhver ny regering er den første finans...</td>\n",
       "      <td>DK-Folketing</td>\n",
       "      <td>DNK</td>\n",
       "    </tr>\n",
       "    <tr>\n",
       "      <th>80816</th>\n",
       "      <td>2002-02-01</td>\n",
       "      <td>1) Første behandling af lovforslag nr. L 70: F...</td>\n",
       "      <td>334</td>\n",
       "      <td>Lars-Emil Johansen</td>\n",
       "      <td>SIU</td>\n",
       "      <td>6651.0</td>\n",
       "      <td>False</td>\n",
       "      <td>2343</td>\n",
       "      <td>For en enhver ny regering er den første finans...</td>\n",
       "      <td>DK-Folketing</td>\n",
       "      <td>DNK</td>\n",
       "    </tr>\n",
       "    <tr>\n",
       "      <th>89139</th>\n",
       "      <td>2002-04-05</td>\n",
       "      <td>5) Forespørgsel nr. F 13: Forespørgsel til ude...</td>\n",
       "      <td>55</td>\n",
       "      <td>Lars-Emil Johansen</td>\n",
       "      <td>SIU</td>\n",
       "      <td>6651.0</td>\n",
       "      <td>False</td>\n",
       "      <td>475</td>\n",
       "      <td>Endnu en gang indgår Grønlands betydning for D...</td>\n",
       "      <td>DK-Folketing</td>\n",
       "      <td>DNK</td>\n",
       "    </tr>\n",
       "    <tr>\n",
       "      <th>...</th>\n",
       "      <td>...</td>\n",
       "      <td>...</td>\n",
       "      <td>...</td>\n",
       "      <td>...</td>\n",
       "      <td>...</td>\n",
       "      <td>...</td>\n",
       "      <td>...</td>\n",
       "      <td>...</td>\n",
       "      <td>...</td>\n",
       "      <td>...</td>\n",
       "      <td>...</td>\n",
       "    </tr>\n",
       "    <tr>\n",
       "      <th>659630</th>\n",
       "      <td>2016-06-01</td>\n",
       "      <td>Forespørgsel nr. F 40:  Forespørgsel til stat...</td>\n",
       "      <td>1092</td>\n",
       "      <td>Aleqa Hammond</td>\n",
       "      <td>SIU</td>\n",
       "      <td>6651.0</td>\n",
       "      <td>False</td>\n",
       "      <td>119</td>\n",
       "      <td>Jeg tror helt sikkert, at det er af stor inter...</td>\n",
       "      <td>DK-Folketing</td>\n",
       "      <td>DNK</td>\n",
       "    </tr>\n",
       "    <tr>\n",
       "      <th>659658</th>\n",
       "      <td>2016-06-01</td>\n",
       "      <td>Forespørgsel nr. F 40:  Forespørgsel til stat...</td>\n",
       "      <td>1120</td>\n",
       "      <td>Aleqa Hammond</td>\n",
       "      <td>SIU</td>\n",
       "      <td>6651.0</td>\n",
       "      <td>False</td>\n",
       "      <td>180</td>\n",
       "      <td>Når vi hører oplæggene, både fra Grønland og F...</td>\n",
       "      <td>DK-Folketing</td>\n",
       "      <td>DNK</td>\n",
       "    </tr>\n",
       "    <tr>\n",
       "      <th>659662</th>\n",
       "      <td>2016-06-01</td>\n",
       "      <td>Forespørgsel nr. F 40:  Forespørgsel til stat...</td>\n",
       "      <td>1124</td>\n",
       "      <td>Aleqa Hammond</td>\n",
       "      <td>SIU</td>\n",
       "      <td>6651.0</td>\n",
       "      <td>False</td>\n",
       "      <td>71</td>\n",
       "      <td>Godt nok er Færøerne med i det danske kongerig...</td>\n",
       "      <td>DK-Folketing</td>\n",
       "      <td>DNK</td>\n",
       "    </tr>\n",
       "    <tr>\n",
       "      <th>659768</th>\n",
       "      <td>2016-06-01</td>\n",
       "      <td>Forespørgsel nr. F 40:  Forespørgsel til stat...</td>\n",
       "      <td>1230</td>\n",
       "      <td>Aleqa Hammond</td>\n",
       "      <td>SIU</td>\n",
       "      <td>6651.0</td>\n",
       "      <td>False</td>\n",
       "      <td>97</td>\n",
       "      <td>Rigsrevisionen fremkom med en meget skarp krit...</td>\n",
       "      <td>DK-Folketing</td>\n",
       "      <td>DNK</td>\n",
       "    </tr>\n",
       "    <tr>\n",
       "      <th>659772</th>\n",
       "      <td>2016-06-01</td>\n",
       "      <td>Forespørgsel nr. F 40:  Forespørgsel til stat...</td>\n",
       "      <td>1234</td>\n",
       "      <td>Aleqa Hammond</td>\n",
       "      <td>SIU</td>\n",
       "      <td>6651.0</td>\n",
       "      <td>False</td>\n",
       "      <td>62</td>\n",
       "      <td>I Taksøerapporten siges det, at Danmark skal t...</td>\n",
       "      <td>DK-Folketing</td>\n",
       "      <td>DNK</td>\n",
       "    </tr>\n",
       "  </tbody>\n",
       "</table>\n",
       "<p>406 rows × 11 columns</p>\n",
       "</div>"
      ],
      "text/plain": [
       "              date                                             agenda  \\\n",
       "76285   2001-12-06             1) Forhandling om redegørelse nr. R 1:   \n",
       "76302   2001-12-06             1) Forhandling om redegørelse nr. R 1:   \n",
       "80792   2002-02-01  1) Første behandling af lovforslag nr. L 70: F...   \n",
       "80816   2002-02-01  1) Første behandling af lovforslag nr. L 70: F...   \n",
       "89139   2002-04-05  5) Forespørgsel nr. F 13: Forespørgsel til ude...   \n",
       "...            ...                                                ...   \n",
       "659630  2016-06-01   Forespørgsel nr. F 40:  Forespørgsel til stat...   \n",
       "659658  2016-06-01   Forespørgsel nr. F 40:  Forespørgsel til stat...   \n",
       "659662  2016-06-01   Forespørgsel nr. F 40:  Forespørgsel til stat...   \n",
       "659768  2016-06-01   Forespørgsel nr. F 40:  Forespørgsel til stat...   \n",
       "659772  2016-06-01   Forespørgsel nr. F 40:  Forespørgsel til stat...   \n",
       "\n",
       "        speechnumber             speaker party  party.facts.id  chair  terms  \\\n",
       "76285            177  Lars Emil Johansen   SIU          6651.0  False   1137   \n",
       "76302            194  Lars Emil Johansen   SIU          6651.0  False    137   \n",
       "80792            310  Lars-Emil Johansen   SIU          6651.0  False   2345   \n",
       "80816            334  Lars-Emil Johansen   SIU          6651.0  False   2343   \n",
       "89139             55  Lars-Emil Johansen   SIU          6651.0  False    475   \n",
       "...              ...                 ...   ...             ...    ...    ...   \n",
       "659630          1092       Aleqa Hammond   SIU          6651.0  False    119   \n",
       "659658          1120       Aleqa Hammond   SIU          6651.0  False    180   \n",
       "659662          1124       Aleqa Hammond   SIU          6651.0  False     71   \n",
       "659768          1230       Aleqa Hammond   SIU          6651.0  False     97   \n",
       "659772          1234       Aleqa Hammond   SIU          6651.0  False     62   \n",
       "\n",
       "                                                     text    parliament  \\\n",
       "76285   Tak. Efter at have været uden for Folketinget ...  DK-Folketing   \n",
       "76302   Statsministeren nævnte, at 1951-aftalen skam v...  DK-Folketing   \n",
       "80792   For en enhver ny regering er den første finans...  DK-Folketing   \n",
       "80816   For en enhver ny regering er den første finans...  DK-Folketing   \n",
       "89139   Endnu en gang indgår Grønlands betydning for D...  DK-Folketing   \n",
       "...                                                   ...           ...   \n",
       "659630  Jeg tror helt sikkert, at det er af stor inter...  DK-Folketing   \n",
       "659658  Når vi hører oplæggene, både fra Grønland og F...  DK-Folketing   \n",
       "659662  Godt nok er Færøerne med i det danske kongerig...  DK-Folketing   \n",
       "659768  Rigsrevisionen fremkom med en meget skarp krit...  DK-Folketing   \n",
       "659772  I Taksøerapporten siges det, at Danmark skal t...  DK-Folketing   \n",
       "\n",
       "       iso3country  \n",
       "76285          DNK  \n",
       "76302          DNK  \n",
       "80792          DNK  \n",
       "80816          DNK  \n",
       "89139          DNK  \n",
       "...            ...  \n",
       "659630         DNK  \n",
       "659658         DNK  \n",
       "659662         DNK  \n",
       "659768         DNK  \n",
       "659772         DNK  \n",
       "\n",
       "[406 rows x 11 columns]"
      ]
     },
     "execution_count": 14,
     "metadata": {},
     "output_type": "execute_result"
    }
   ],
   "source": [
    "party_df.loc[party_df['party'] == 'SIU']"
   ]
  },
  {
   "cell_type": "code",
   "execution_count": 15,
   "id": "11524d25",
   "metadata": {
    "scrolled": true
   },
   "outputs": [
    {
     "name": "stderr",
     "output_type": "stream",
     "text": [
      "/tmp/ipykernel_21902/3910170133.py:1: SettingWithCopyWarning: \n",
      "A value is trying to be set on a copy of a slice from a DataFrame.\n",
      "Try using .loc[row_indexer,col_indexer] = value instead\n",
      "\n",
      "See the caveats in the documentation: https://pandas.pydata.org/pandas-docs/stable/user_guide/indexing.html#returning-a-view-versus-a-copy\n",
      "  party_df['left'] = 0\n"
     ]
    }
   ],
   "source": [
    "party_df['left'] = 0"
   ]
  },
  {
   "cell_type": "code",
   "execution_count": 16,
   "id": "6e4761d0",
   "metadata": {},
   "outputs": [],
   "source": [
    "party_df.loc[party_df['party'].isin(left_list), 'left'] = 1"
   ]
  },
  {
   "cell_type": "code",
   "execution_count": 17,
   "id": "dceb4aa9",
   "metadata": {},
   "outputs": [
    {
     "data": {
      "text/plain": [
       "0    351018\n",
       "1    108271\n",
       "Name: left, dtype: int64"
      ]
     },
     "execution_count": 17,
     "metadata": {},
     "output_type": "execute_result"
    }
   ],
   "source": [
    "party_df['left'].value_counts()"
   ]
  },
  {
   "cell_type": "code",
   "execution_count": 18,
   "id": "151c82aa",
   "metadata": {},
   "outputs": [],
   "source": [
    "party_df = party_df.loc[party_df['terms'] > 40]"
   ]
  },
  {
   "cell_type": "code",
   "execution_count": 19,
   "id": "0ae0fffa",
   "metadata": {},
   "outputs": [],
   "source": [
    "party_df.to_json('den_party_df.json')"
   ]
  },
  {
   "cell_type": "markdown",
   "id": "636eaf4d",
   "metadata": {},
   "source": [
    "socio-economic (class); religious (church–state); ethnic (center–periphery); urban–rural; post-materialist; and foreign policy"
   ]
  },
  {
   "cell_type": "code",
   "execution_count": 19,
   "id": "bf5e8c77",
   "metadata": {},
   "outputs": [],
   "source": [
    "def preprocess(text):\n",
    "    'Creating preprocessing pipeline'\n",
    "\n",
    "    # Lowercasing\n",
    "    text = text.lower()\n",
    "\n",
    "    # Removing punctuation\n",
    "    text = re.sub(r'[()\\.\\,\\?\\!\\\"\\'\\-\\`\\:\\;\\\\\\%\\*\\[\\]]+','', text)\n",
    "\n",
    "    return text"
   ]
  },
  {
   "cell_type": "code",
   "execution_count": 20,
   "id": "9a99afac",
   "metadata": {},
   "outputs": [],
   "source": [
    "nlp = spacy.load(\"xx_sent_ud_sm\")\n",
    "def token(text):\n",
    "    doc = nlp(text)\n",
    "    return [token.text for token in doc]"
   ]
  },
  {
   "cell_type": "code",
   "execution_count": 21,
   "id": "46332391",
   "metadata": {},
   "outputs": [],
   "source": [
    "df_preprocessed = party_df['text'].apply(lambda x: preprocess(x))"
   ]
  },
  {
   "cell_type": "code",
   "execution_count": 22,
   "id": "fe741985",
   "metadata": {
    "scrolled": true
   },
   "outputs": [
    {
     "data": {
      "text/plain": [
       "2         for 25 år siden sagde et flertal i befolkninge...\n",
       "4         vi står over for en meget afgørende folketings...\n",
       "6         hr torben lund taler om indgreb imod det stige...\n",
       "7         ligesom i åbningstalen kom udlændingeafsnittet...\n",
       "8         jeg kan forstå at udlændingepolitikken er kraf...\n",
       "                                ...                        \n",
       "772147    vi bakker op om det her forslag fordi vi synes...\n",
       "772149    al respekt for fru lotte rods opfordring men m...\n",
       "772151    man kan jo grundlæggende have to tilgange til ...\n",
       "772165    om lidt vil der være et flertal som stemmer de...\n",
       "772169    siden 2016 er 62 børn blev udvist selv om en a...\n",
       "Name: text, Length: 438115, dtype: object"
      ]
     },
     "execution_count": 22,
     "metadata": {},
     "output_type": "execute_result"
    }
   ],
   "source": [
    "df_preprocessed"
   ]
  },
  {
   "cell_type": "code",
   "execution_count": 23,
   "id": "aae1d3d0",
   "metadata": {},
   "outputs": [],
   "source": [
    "# Vectorizing \n",
    "vectorizer = TfidfVectorizer(min_df= 0.0001) # Default N-gram range is (1,1)\n",
    "den_features = vectorizer.fit_transform(df_preprocessed)"
   ]
  },
  {
   "cell_type": "code",
   "execution_count": 24,
   "id": "777c3b32",
   "metadata": {},
   "outputs": [],
   "source": [
    "pickle.dump(vectorizer, open(\"den_vectorizer.pickle\", \"wb\"))\n",
    "pickle.dump(den_features, open(\"den_features.pickle\", \"wb\"))"
   ]
  }
 ],
 "metadata": {
  "kernelspec": {
   "display_name": "Python 3 (ipykernel)",
   "language": "python",
   "name": "python3"
  },
  "language_info": {
   "codemirror_mode": {
    "name": "ipython",
    "version": 3
   },
   "file_extension": ".py",
   "mimetype": "text/x-python",
   "name": "python",
   "nbconvert_exporter": "python",
   "pygments_lexer": "ipython3",
   "version": "3.9.13"
  }
 },
 "nbformat": 4,
 "nbformat_minor": 5
}
