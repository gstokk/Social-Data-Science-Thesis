{
 "cells": [
  {
   "cell_type": "code",
   "execution_count": 1,
   "id": "d7867ea2",
   "metadata": {
    "scrolled": false
   },
   "outputs": [],
   "source": [
    "import pandas as pd\n",
    "import numpy as np\n",
    "import spacy\n",
    "import re\n",
    "import pickle\n",
    "import torch\n",
    "# import cuml\n",
    "\n",
    "from scipy.stats import pearsonr\n",
    "from sklearn.feature_selection import chi2\n",
    "from tqdm import tqdm\n",
    "from sklearn.linear_model import LogisticRegression, LinearRegression\n",
    "from sklearn.model_selection import train_test_split, learning_curve, GridSearchCV\n",
    "from sklearn.feature_extraction.text import TfidfVectorizer\n",
    "from sklearn.metrics import accuracy_score, recall_score, precision_score, f1_score, classification_report\n",
    "from sklearn.metrics import confusion_matrix as cf_matrix"
   ]
  },
  {
   "cell_type": "code",
   "execution_count": 2,
   "id": "0d1bdb7f",
   "metadata": {},
   "outputs": [
    {
     "name": "stdout",
     "output_type": "stream",
     "text": [
      "__CUDNN VERSION: 8500\n",
      "__Number CUDA Devices: 3\n",
      "__CUDA Device Name: Tesla V100-PCIE-32GB\n",
      "__CUDA Device Total Memory [GB]: 34.089926656\n"
     ]
    }
   ],
   "source": [
    "if torch.cuda.is_available():\n",
    "    print('__CUDNN VERSION:', torch.backends.cudnn.version())\n",
    "    print('__Number CUDA Devices:', torch.cuda.device_count())\n",
    "    print('__CUDA Device Name:',torch.cuda.get_device_name(0))\n",
    "    print('__CUDA Device Total Memory [GB]:',torch.cuda.get_device_properties(0).total_memory/1e9)"
   ]
  },
  {
   "cell_type": "code",
   "execution_count": 3,
   "id": "9facd1a4",
   "metadata": {},
   "outputs": [],
   "source": [
    "device = torch.device(\"cuda\" if torch.cuda.is_available() else \"cpu\")"
   ]
  },
  {
   "cell_type": "code",
   "execution_count": 4,
   "id": "46af12e0",
   "metadata": {},
   "outputs": [
    {
     "name": "stderr",
     "output_type": "stream",
     "text": [
      "/tmp/ipykernel_35827/99304447.py:1: DtypeWarning: Columns (1) have mixed types. Specify dtype option on import or set low_memory=False.\n",
      "  df = pd.read_csv(r\"/maps/hdir/gsw508/Thesis/Data/ParlSpeech_V2/Corp_Bundestag_V2.csv\")\n"
     ]
    }
   ],
   "source": [
    "df = pd.read_csv(r\"/maps/hdir/gsw508/Thesis/Data/ParlSpeech_V2/Corp_Bundestag_V2.csv\")"
   ]
  },
  {
   "cell_type": "code",
   "execution_count": 5,
   "id": "808f66f6",
   "metadata": {},
   "outputs": [],
   "source": [
    "cmp_df = pd.read_csv(\"/maps/hdir/gsw508/Thesis/Data/MPDataset_MPDS2022a.csv\")"
   ]
  },
  {
   "cell_type": "code",
   "execution_count": 6,
   "id": "2f5f594b",
   "metadata": {},
   "outputs": [
    {
     "data": {
      "text/plain": [
       "array(['Sweden', 'Norway', 'Denmark', 'Finland', 'Iceland', 'Belgium',\n",
       "       'Netherlands', 'Luxembourg', 'France', 'Italy', 'Spain', 'Greece',\n",
       "       'Portugal', 'Germany', 'Austria', 'Switzerland', 'United Kingdom',\n",
       "       'Northern Ireland', 'Ireland', 'Malta', 'Cyprus', 'United States',\n",
       "       'Canada', 'Australia', 'New Zealand', 'Japan', 'Israel',\n",
       "       'Sri Lanka', 'Turkey', 'Albania', 'Armenia', 'Azerbaijan',\n",
       "       'Belarus', 'Bosnia-Herzegovina', 'Bulgaria', 'Croatia',\n",
       "       'Czech Republic', 'Estonia', 'Georgia',\n",
       "       'German Democratic Republic', 'Hungary', 'Latvia', 'Lithuania',\n",
       "       'North Macedonia', 'Moldova', 'Montenegro', 'Poland', 'Romania',\n",
       "       'Russia', 'Serbia', 'Slovakia', 'Slovenia', 'Ukraine',\n",
       "       'South Korea', 'Mexico', 'South Africa'], dtype=object)"
      ]
     },
     "execution_count": 6,
     "metadata": {},
     "output_type": "execute_result"
    }
   ],
   "source": [
    "cmp_df['countryname'].unique()"
   ]
  },
  {
   "cell_type": "code",
   "execution_count": 7,
   "id": "94aafe7e",
   "metadata": {},
   "outputs": [
    {
     "data": {
      "text/plain": [
       "FDP          20\n",
       "CDU/CSU      20\n",
       "SPD          20\n",
       "90/Greens     8\n",
       "PDS           4\n",
       "LINKE         4\n",
       "AfD           3\n",
       "DP            3\n",
       "DZ            2\n",
       "SSW           2\n",
       "L-PDS         1\n",
       "KPD           1\n",
       "Greens/90     1\n",
       "GB/BHE        1\n",
       "DRP           1\n",
       "WAV           1\n",
       "BP            1\n",
       "Name: partyabbrev, dtype: int64"
      ]
     },
     "execution_count": 7,
     "metadata": {},
     "output_type": "execute_result"
    }
   ],
   "source": [
    "cmp_df.loc[(cmp_df['countryname'] == 'Germany'), 'partyabbrev'].value_counts()"
   ]
  },
  {
   "cell_type": "code",
   "execution_count": 8,
   "id": "f3d8ba42",
   "metadata": {
    "scrolled": false
   },
   "outputs": [
    {
     "data": {
      "text/plain": [
       "Social Democratic Party of Germany                   20\n",
       "Free Democratic Party                                20\n",
       "Christian Democratic Union/Christian Social Union    20\n",
       "Alliance‘90/Greens                                    8\n",
       "The Left                                              4\n",
       "Party of Democratic Socialism                         4\n",
       "Alternative for Germany                               3\n",
       "German Party                                          3\n",
       "The Greens                                            2\n",
       "South Schleswig Voters’ Union                         2\n",
       "Centre Party                                          2\n",
       "Refugee Party                                         1\n",
       "Bavarian Party                                        1\n",
       "Greens/Alliance‘90                                    1\n",
       "German Reich Party                                    1\n",
       "Economic Reconstruction League                        1\n",
       "The Left. Party of Democratic Socialism               1\n",
       "Pirates                                               1\n",
       "Communist Party of Germany                            1\n",
       "Name: partyname, dtype: int64"
      ]
     },
     "execution_count": 8,
     "metadata": {},
     "output_type": "execute_result"
    }
   ],
   "source": [
    "cmp_df.loc[(cmp_df['countryname'] == 'Germany'), 'partyname'].value_counts()"
   ]
  },
  {
   "cell_type": "code",
   "execution_count": 9,
   "id": "90dc3a9f",
   "metadata": {},
   "outputs": [],
   "source": [
    "party_df = df.loc[df['party'].isna() == False]"
   ]
  },
  {
   "cell_type": "code",
   "execution_count": 10,
   "id": "366d1d62",
   "metadata": {
    "scrolled": false
   },
   "outputs": [
    {
     "data": {
      "text/plain": [
       "1968    20\n",
       "1973    20\n",
       "1980    20\n",
       "1986    20\n",
       "Name: parfam, dtype: int64"
      ]
     },
     "execution_count": 10,
     "metadata": {},
     "output_type": "execute_result"
    }
   ],
   "source": [
    "cmp_df.loc[(cmp_df['countryname'] == 'Germany') & (cmp_df['partyabbrev'] == 'LINKE'), 'parfam']"
   ]
  },
  {
   "cell_type": "code",
   "execution_count": 11,
   "id": "a5506f93",
   "metadata": {
    "scrolled": true
   },
   "outputs": [
    {
     "data": {
      "text/plain": [
       "CDU/CSU        97081\n",
       "SPD            88662\n",
       "FDP            47701\n",
       "GRUENE         43131\n",
       "PDS/LINKE      29494\n",
       "AfD             1495\n",
       "independent      642\n",
       "Name: party, dtype: int64"
      ]
     },
     "execution_count": 11,
     "metadata": {},
     "output_type": "execute_result"
    }
   ],
   "source": [
    "party_df['party'].value_counts()"
   ]
  },
  {
   "cell_type": "code",
   "execution_count": 12,
   "id": "692038d7",
   "metadata": {},
   "outputs": [],
   "source": [
    "# Partyfam 10, 20, 30\n",
    "left_list = ['SPD', 'GRUENE', 'PDS/LINKE']\n",
    "\n",
    "# ???"
   ]
  },
  {
   "cell_type": "code",
   "execution_count": 13,
   "id": "11524d25",
   "metadata": {
    "scrolled": true
   },
   "outputs": [
    {
     "name": "stderr",
     "output_type": "stream",
     "text": [
      "/tmp/ipykernel_35827/3910170133.py:1: SettingWithCopyWarning: \n",
      "A value is trying to be set on a copy of a slice from a DataFrame.\n",
      "Try using .loc[row_indexer,col_indexer] = value instead\n",
      "\n",
      "See the caveats in the documentation: https://pandas.pydata.org/pandas-docs/stable/user_guide/indexing.html#returning-a-view-versus-a-copy\n",
      "  party_df['left'] = 0\n"
     ]
    }
   ],
   "source": [
    "party_df['left'] = 0"
   ]
  },
  {
   "cell_type": "code",
   "execution_count": 14,
   "id": "6e4761d0",
   "metadata": {},
   "outputs": [],
   "source": [
    "party_df.loc[party_df['party'].isin(left_list), 'left'] = 1"
   ]
  },
  {
   "cell_type": "code",
   "execution_count": 15,
   "id": "dceb4aa9",
   "metadata": {},
   "outputs": [
    {
     "data": {
      "text/plain": [
       "1    161287\n",
       "0    146919\n",
       "Name: left, dtype: int64"
      ]
     },
     "execution_count": 15,
     "metadata": {},
     "output_type": "execute_result"
    }
   ],
   "source": [
    "party_df['left'].value_counts()"
   ]
  },
  {
   "cell_type": "code",
   "execution_count": 16,
   "id": "aaf9bb53",
   "metadata": {},
   "outputs": [],
   "source": [
    "party_df = party_df.loc[party_df['terms'] > 40]"
   ]
  },
  {
   "cell_type": "code",
   "execution_count": 17,
   "id": "9f8b6e8c",
   "metadata": {},
   "outputs": [],
   "source": [
    "party_df.to_json('deu_party_df.json')"
   ]
  },
  {
   "cell_type": "markdown",
   "id": "636eaf4d",
   "metadata": {},
   "source": [
    "socio-economic (class); religious (church–state); ethnic (center–periphery); urban–rural; post-materialist; and foreign policy"
   ]
  },
  {
   "cell_type": "code",
   "execution_count": 17,
   "id": "bf5e8c77",
   "metadata": {},
   "outputs": [],
   "source": [
    "def preprocess(text):\n",
    "    'Creating preprocessing pipeline'\n",
    "\n",
    "    # Lowercasing\n",
    "    text = text.lower()\n",
    "\n",
    "    # Removing punctuation\n",
    "    text = re.sub(r'[()\\.\\,\\?\\!\\\"\\'\\-\\`\\:\\;\\\\\\%\\*\\[\\]]+','', text)\n",
    "\n",
    "    return text"
   ]
  },
  {
   "cell_type": "code",
   "execution_count": 18,
   "id": "9a99afac",
   "metadata": {},
   "outputs": [],
   "source": [
    "nlp = spacy.load(\"xx_sent_ud_sm\")\n",
    "def token(text):\n",
    "    doc = nlp(text)\n",
    "    return [token.text for token in doc]"
   ]
  },
  {
   "cell_type": "code",
   "execution_count": 19,
   "id": "46332391",
   "metadata": {},
   "outputs": [],
   "source": [
    "df_preprocessed = party_df['text'].apply(lambda x: preprocess(x))"
   ]
  },
  {
   "cell_type": "code",
   "execution_count": 20,
   "id": "fe741985",
   "metadata": {
    "scrolled": true
   },
   "outputs": [
    {
     "data": {
      "text/plain": [
       "0         frau präsidentin  meine sehr geehrten damen un...\n",
       "2         nicht viel besser sieht es im straßenwesen aus...\n",
       "3         meine damen und herren  wie bereits heute morg...\n",
       "4         geehrte frau präsidentin  meine damen und herr...\n",
       "6         frau präsidentin  meine sehr verehrten damen u...\n",
       "                                ...                        \n",
       "379533    sehr geehrter herr präsident liebe kollegen un...\n",
       "379535    sehr geehrter herr präsident meine sehr geehrt...\n",
       "379537    herr präsident liebe kolleginnen liebe kollege...\n",
       "379539    sehr geehrter herr präsident liebe kolleginnen...\n",
       "379543    ich bedanke mich bei den mitarbeitern der verw...\n",
       "Name: text, Length: 188664, dtype: object"
      ]
     },
     "execution_count": 20,
     "metadata": {},
     "output_type": "execute_result"
    }
   ],
   "source": [
    "df_preprocessed"
   ]
  },
  {
   "cell_type": "code",
   "execution_count": 21,
   "id": "aae1d3d0",
   "metadata": {},
   "outputs": [],
   "source": [
    "# Vectorizing \n",
    "vectorizer = TfidfVectorizer(min_df= 0.0001) # Default N-gram range is (1,1)\n",
    "deu_features = vectorizer.fit_transform(df_preprocessed)"
   ]
  },
  {
   "cell_type": "code",
   "execution_count": 22,
   "id": "777c3b32",
   "metadata": {},
   "outputs": [],
   "source": [
    "pickle.dump(vectorizer, open(\"deu_vectorizer.pickle\", \"wb\"))\n",
    "pickle.dump(deu_features, open(\"deu_features.pickle\", \"wb\"))"
   ]
  },
  {
   "cell_type": "code",
   "execution_count": 23,
   "id": "c88edcff",
   "metadata": {},
   "outputs": [
    {
     "data": {
      "text/plain": [
       "TfidfVectorizer(min_df=0.0001)"
      ]
     },
     "execution_count": 23,
     "metadata": {},
     "output_type": "execute_result"
    }
   ],
   "source": [
    "vectorizer"
   ]
  }
 ],
 "metadata": {
  "kernelspec": {
   "display_name": "Python 3 (ipykernel)",
   "language": "python",
   "name": "python3"
  },
  "language_info": {
   "codemirror_mode": {
    "name": "ipython",
    "version": 3
   },
   "file_extension": ".py",
   "mimetype": "text/x-python",
   "name": "python",
   "nbconvert_exporter": "python",
   "pygments_lexer": "ipython3",
   "version": "3.9.13"
  }
 },
 "nbformat": 4,
 "nbformat_minor": 5
}
