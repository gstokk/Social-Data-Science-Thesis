{
 "cells": [
  {
   "cell_type": "code",
   "execution_count": 1,
   "id": "d7867ea2",
   "metadata": {
    "scrolled": false
   },
   "outputs": [],
   "source": [
    "import pandas as pd\n",
    "import numpy as np\n",
    "import spacy\n",
    "import re\n",
    "import pickle\n",
    "import torch\n",
    "# import cuml\n",
    "\n",
    "from scipy.stats import pearsonr\n",
    "from sklearn.feature_selection import chi2\n",
    "from tqdm import tqdm\n",
    "from sklearn.linear_model import LogisticRegression, LinearRegression\n",
    "from sklearn.model_selection import train_test_split, learning_curve, GridSearchCV\n",
    "from sklearn.feature_extraction.text import TfidfVectorizer\n",
    "from sklearn.metrics import accuracy_score, recall_score, precision_score, f1_score, classification_report\n",
    "from sklearn.metrics import confusion_matrix as cf_matrix"
   ]
  },
  {
   "cell_type": "code",
   "execution_count": 2,
   "id": "0d1bdb7f",
   "metadata": {},
   "outputs": [
    {
     "name": "stdout",
     "output_type": "stream",
     "text": [
      "__CUDNN VERSION: 8500\n",
      "__Number CUDA Devices: 3\n",
      "__CUDA Device Name: Tesla V100-PCIE-32GB\n",
      "__CUDA Device Total Memory [GB]: 34.089926656\n"
     ]
    }
   ],
   "source": [
    "if torch.cuda.is_available():\n",
    "    print('__CUDNN VERSION:', torch.backends.cudnn.version())\n",
    "    print('__Number CUDA Devices:', torch.cuda.device_count())\n",
    "    print('__CUDA Device Name:',torch.cuda.get_device_name(0))\n",
    "    print('__CUDA Device Total Memory [GB]:',torch.cuda.get_device_properties(0).total_memory/1e9)"
   ]
  },
  {
   "cell_type": "code",
   "execution_count": 3,
   "id": "9facd1a4",
   "metadata": {},
   "outputs": [],
   "source": [
    "device = torch.device(\"cuda\" if torch.cuda.is_available() else \"cpu\")"
   ]
  },
  {
   "cell_type": "code",
   "execution_count": 4,
   "id": "46af12e0",
   "metadata": {},
   "outputs": [],
   "source": [
    "df = pd.read_csv(r\"/maps/hdir/gsw508/Thesis/Data/ParlSpeech_V2/Corp_NZHoR_V2.csv\")"
   ]
  },
  {
   "cell_type": "code",
   "execution_count": 5,
   "id": "9594e558",
   "metadata": {},
   "outputs": [
    {
     "data": {
      "text/html": [
       "<div>\n",
       "<style scoped>\n",
       "    .dataframe tbody tr th:only-of-type {\n",
       "        vertical-align: middle;\n",
       "    }\n",
       "\n",
       "    .dataframe tbody tr th {\n",
       "        vertical-align: top;\n",
       "    }\n",
       "\n",
       "    .dataframe thead th {\n",
       "        text-align: right;\n",
       "    }\n",
       "</style>\n",
       "<table border=\"1\" class=\"dataframe\">\n",
       "  <thead>\n",
       "    <tr style=\"text-align: right;\">\n",
       "      <th></th>\n",
       "      <th>date</th>\n",
       "      <th>agenda</th>\n",
       "      <th>speechnumber</th>\n",
       "      <th>speaker</th>\n",
       "      <th>party</th>\n",
       "      <th>party.facts.id</th>\n",
       "      <th>chair</th>\n",
       "      <th>terms</th>\n",
       "      <th>text</th>\n",
       "      <th>parliament</th>\n",
       "      <th>iso3country</th>\n",
       "    </tr>\n",
       "  </thead>\n",
       "  <tbody>\n",
       "    <tr>\n",
       "      <th>0</th>\n",
       "      <td>1996-12-13</td>\n",
       "      <td>ELECTION OF SPEAKER</td>\n",
       "      <td>1</td>\n",
       "      <td>MR SPEAKER</td>\n",
       "      <td>NaN</td>\n",
       "      <td>NaN</td>\n",
       "      <td>True</td>\n",
       "      <td>333</td>\n",
       "      <td>I have to report that, accompanied by members...</td>\n",
       "      <td>NZ-House_of_Representatives</td>\n",
       "      <td>NZL</td>\n",
       "    </tr>\n",
       "    <tr>\n",
       "      <th>1</th>\n",
       "      <td>1996-12-13</td>\n",
       "      <td>POINT OF ORDER---BUSINESS COMMITTEE</td>\n",
       "      <td>2</td>\n",
       "      <td>RICHARD PREBBLE</td>\n",
       "      <td>ACT</td>\n",
       "      <td>752.0</td>\n",
       "      <td>False</td>\n",
       "      <td>50</td>\n",
       "      <td>I raise a point of order, Mr Speaker. I can r...</td>\n",
       "      <td>NZ-House_of_Representatives</td>\n",
       "      <td>NZL</td>\n",
       "    </tr>\n",
       "    <tr>\n",
       "      <th>2</th>\n",
       "      <td>1996-12-13</td>\n",
       "      <td>POINT OF ORDER---BUSINESS COMMITTEE</td>\n",
       "      <td>3</td>\n",
       "      <td>MR SPEAKER</td>\n",
       "      <td>NaN</td>\n",
       "      <td>NaN</td>\n",
       "      <td>True</td>\n",
       "      <td>6</td>\n",
       "      <td>I will hear the member.</td>\n",
       "      <td>NZ-House_of_Representatives</td>\n",
       "      <td>NZL</td>\n",
       "    </tr>\n",
       "    <tr>\n",
       "      <th>3</th>\n",
       "      <td>1996-12-13</td>\n",
       "      <td>POINT OF ORDER---BUSINESS COMMITTEE</td>\n",
       "      <td>4</td>\n",
       "      <td>RICHARD PREBBLE</td>\n",
       "      <td>ACT</td>\n",
       "      <td>752.0</td>\n",
       "      <td>False</td>\n",
       "      <td>108</td>\n",
       "      <td>Under Standing Order 76, a Business Committee...</td>\n",
       "      <td>NZ-House_of_Representatives</td>\n",
       "      <td>NZL</td>\n",
       "    </tr>\n",
       "    <tr>\n",
       "      <th>4</th>\n",
       "      <td>1996-12-13</td>\n",
       "      <td>POINT OF ORDER---BUSINESS COMMITTEE</td>\n",
       "      <td>5</td>\n",
       "      <td>RICHARD PREBBLE</td>\n",
       "      <td>ACT</td>\n",
       "      <td>752.0</td>\n",
       "      <td>False</td>\n",
       "      <td>115</td>\n",
       "      <td>I am obliged to the member. Certainly, we wer...</td>\n",
       "      <td>NZ-House_of_Representatives</td>\n",
       "      <td>NZL</td>\n",
       "    </tr>\n",
       "    <tr>\n",
       "      <th>...</th>\n",
       "      <td>...</td>\n",
       "      <td>...</td>\n",
       "      <td>...</td>\n",
       "      <td>...</td>\n",
       "      <td>...</td>\n",
       "      <td>...</td>\n",
       "      <td>...</td>\n",
       "      <td>...</td>\n",
       "      <td>...</td>\n",
       "      <td>...</td>\n",
       "      <td>...</td>\n",
       "    </tr>\n",
       "    <tr>\n",
       "      <th>925761</th>\n",
       "      <td>2016-11-09</td>\n",
       "      <td>RATES REBATE (RETIREMENT VILLAGE RESIDENTS) A...</td>\n",
       "      <td>278</td>\n",
       "      <td>RON MARK</td>\n",
       "      <td>NZ First</td>\n",
       "      <td>591.0</td>\n",
       "      <td>False</td>\n",
       "      <td>546</td>\n",
       "      <td>I rise with a couple of things on my mind. Fi...</td>\n",
       "      <td>NZ-House_of_Representatives</td>\n",
       "      <td>NZL</td>\n",
       "    </tr>\n",
       "    <tr>\n",
       "      <th>925762</th>\n",
       "      <td>2016-11-09</td>\n",
       "      <td>RATES REBATE (RETIREMENT VILLAGE RESIDENTS) A...</td>\n",
       "      <td>279</td>\n",
       "      <td>JOANNE HAYES</td>\n",
       "      <td>National</td>\n",
       "      <td>1824.0</td>\n",
       "      <td>False</td>\n",
       "      <td>294</td>\n",
       "      <td>I rise to take a brief call on the Rates Reba...</td>\n",
       "      <td>NZ-House_of_Representatives</td>\n",
       "      <td>NZL</td>\n",
       "    </tr>\n",
       "    <tr>\n",
       "      <th>925763</th>\n",
       "      <td>2016-11-09</td>\n",
       "      <td>RATES REBATE (RETIREMENT VILLAGE RESIDENTS) A...</td>\n",
       "      <td>280</td>\n",
       "      <td>BARRY COATES</td>\n",
       "      <td>Green</td>\n",
       "      <td>1099.0</td>\n",
       "      <td>False</td>\n",
       "      <td>221</td>\n",
       "      <td>I will take a short call in the interests of ...</td>\n",
       "      <td>NZ-House_of_Representatives</td>\n",
       "      <td>NZL</td>\n",
       "    </tr>\n",
       "    <tr>\n",
       "      <th>925764</th>\n",
       "      <td>2016-11-09</td>\n",
       "      <td>RATES REBATE (RETIREMENT VILLAGE RESIDENTS) A...</td>\n",
       "      <td>281</td>\n",
       "      <td>MATT DOOCEY</td>\n",
       "      <td>National</td>\n",
       "      <td>1824.0</td>\n",
       "      <td>False</td>\n",
       "      <td>675</td>\n",
       "      <td>It is a pleasure to rise and speak to the Rat...</td>\n",
       "      <td>NZ-House_of_Representatives</td>\n",
       "      <td>NZL</td>\n",
       "    </tr>\n",
       "    <tr>\n",
       "      <th>925765</th>\n",
       "      <td>2016-11-09</td>\n",
       "      <td>RATES REBATE (RETIREMENT VILLAGE RESIDENTS) A...</td>\n",
       "      <td>282</td>\n",
       "      <td>RUTH DYSON</td>\n",
       "      <td>Labour</td>\n",
       "      <td>1049.0</td>\n",
       "      <td>False</td>\n",
       "      <td>291</td>\n",
       "      <td>Can I say what a pleasure it is to have broug...</td>\n",
       "      <td>NZ-House_of_Representatives</td>\n",
       "      <td>NZL</td>\n",
       "    </tr>\n",
       "  </tbody>\n",
       "</table>\n",
       "<p>925766 rows × 11 columns</p>\n",
       "</div>"
      ],
      "text/plain": [
       "              date                                             agenda  \\\n",
       "0       1996-12-13                               ELECTION OF SPEAKER    \n",
       "1       1996-12-13               POINT OF ORDER---BUSINESS COMMITTEE    \n",
       "2       1996-12-13               POINT OF ORDER---BUSINESS COMMITTEE    \n",
       "3       1996-12-13               POINT OF ORDER---BUSINESS COMMITTEE    \n",
       "4       1996-12-13               POINT OF ORDER---BUSINESS COMMITTEE    \n",
       "...            ...                                                ...   \n",
       "925761  2016-11-09   RATES REBATE (RETIREMENT VILLAGE RESIDENTS) A...   \n",
       "925762  2016-11-09   RATES REBATE (RETIREMENT VILLAGE RESIDENTS) A...   \n",
       "925763  2016-11-09   RATES REBATE (RETIREMENT VILLAGE RESIDENTS) A...   \n",
       "925764  2016-11-09   RATES REBATE (RETIREMENT VILLAGE RESIDENTS) A...   \n",
       "925765  2016-11-09   RATES REBATE (RETIREMENT VILLAGE RESIDENTS) A...   \n",
       "\n",
       "        speechnumber          speaker     party  party.facts.id  chair  terms  \\\n",
       "0                  1       MR SPEAKER       NaN             NaN   True    333   \n",
       "1                  2  RICHARD PREBBLE       ACT           752.0  False     50   \n",
       "2                  3       MR SPEAKER       NaN             NaN   True      6   \n",
       "3                  4  RICHARD PREBBLE       ACT           752.0  False    108   \n",
       "4                  5  RICHARD PREBBLE       ACT           752.0  False    115   \n",
       "...              ...              ...       ...             ...    ...    ...   \n",
       "925761           278         RON MARK  NZ First           591.0  False    546   \n",
       "925762           279     JOANNE HAYES  National          1824.0  False    294   \n",
       "925763           280     BARRY COATES     Green          1099.0  False    221   \n",
       "925764           281      MATT DOOCEY  National          1824.0  False    675   \n",
       "925765           282       RUTH DYSON    Labour          1049.0  False    291   \n",
       "\n",
       "                                                     text  \\\n",
       "0        I have to report that, accompanied by members...   \n",
       "1        I raise a point of order, Mr Speaker. I can r...   \n",
       "2                                 I will hear the member.   \n",
       "3        Under Standing Order 76, a Business Committee...   \n",
       "4        I am obliged to the member. Certainly, we wer...   \n",
       "...                                                   ...   \n",
       "925761   I rise with a couple of things on my mind. Fi...   \n",
       "925762   I rise to take a brief call on the Rates Reba...   \n",
       "925763   I will take a short call in the interests of ...   \n",
       "925764   It is a pleasure to rise and speak to the Rat...   \n",
       "925765   Can I say what a pleasure it is to have broug...   \n",
       "\n",
       "                         parliament iso3country  \n",
       "0       NZ-House_of_Representatives         NZL  \n",
       "1       NZ-House_of_Representatives         NZL  \n",
       "2       NZ-House_of_Representatives         NZL  \n",
       "3       NZ-House_of_Representatives         NZL  \n",
       "4       NZ-House_of_Representatives         NZL  \n",
       "...                             ...         ...  \n",
       "925761  NZ-House_of_Representatives         NZL  \n",
       "925762  NZ-House_of_Representatives         NZL  \n",
       "925763  NZ-House_of_Representatives         NZL  \n",
       "925764  NZ-House_of_Representatives         NZL  \n",
       "925765  NZ-House_of_Representatives         NZL  \n",
       "\n",
       "[925766 rows x 11 columns]"
      ]
     },
     "execution_count": 5,
     "metadata": {},
     "output_type": "execute_result"
    }
   ],
   "source": [
    "df"
   ]
  },
  {
   "cell_type": "code",
   "execution_count": 6,
   "id": "808f66f6",
   "metadata": {},
   "outputs": [],
   "source": [
    "cmp_df = pd.read_csv(\"/maps/hdir/gsw508/Thesis/Data/MPDataset_MPDS2022a.csv\")"
   ]
  },
  {
   "cell_type": "code",
   "execution_count": 7,
   "id": "2f5f594b",
   "metadata": {},
   "outputs": [
    {
     "data": {
      "text/plain": [
       "array(['Sweden', 'Norway', 'Denmark', 'Finland', 'Iceland', 'Belgium',\n",
       "       'Netherlands', 'Luxembourg', 'France', 'Italy', 'Spain', 'Greece',\n",
       "       'Portugal', 'Germany', 'Austria', 'Switzerland', 'United Kingdom',\n",
       "       'Northern Ireland', 'Ireland', 'Malta', 'Cyprus', 'United States',\n",
       "       'Canada', 'Australia', 'New Zealand', 'Japan', 'Israel',\n",
       "       'Sri Lanka', 'Turkey', 'Albania', 'Armenia', 'Azerbaijan',\n",
       "       'Belarus', 'Bosnia-Herzegovina', 'Bulgaria', 'Croatia',\n",
       "       'Czech Republic', 'Estonia', 'Georgia',\n",
       "       'German Democratic Republic', 'Hungary', 'Latvia', 'Lithuania',\n",
       "       'North Macedonia', 'Moldova', 'Montenegro', 'Poland', 'Romania',\n",
       "       'Russia', 'Serbia', 'Slovakia', 'Slovenia', 'Ukraine',\n",
       "       'South Korea', 'Mexico', 'South Africa'], dtype=object)"
      ]
     },
     "execution_count": 7,
     "metadata": {},
     "output_type": "execute_result"
    }
   ],
   "source": [
    "cmp_df['countryname'].unique()"
   ]
  },
  {
   "cell_type": "code",
   "execution_count": 8,
   "id": "94aafe7e",
   "metadata": {},
   "outputs": [
    {
     "data": {
      "text/plain": [
       "Labour         26\n",
       "National       26\n",
       "ACT             9\n",
       "NZF             8\n",
       "Greens          8\n",
       "Alliance        3\n",
       "Progressive     3\n",
       "NZDP            2\n",
       "Mana            1\n",
       "Name: partyabbrev, dtype: int64"
      ]
     },
     "execution_count": 8,
     "metadata": {},
     "output_type": "execute_result"
    }
   ],
   "source": [
    "cmp_df.loc[(cmp_df['countryname'] == 'New Zealand'), 'partyabbrev'].value_counts()"
   ]
  },
  {
   "cell_type": "code",
   "execution_count": 9,
   "id": "f3d8ba42",
   "metadata": {
    "scrolled": false
   },
   "outputs": [
    {
     "data": {
      "text/plain": [
       "New Zealand Labour Party                26\n",
       "New Zealand National Party              26\n",
       "Social Credit Political League          11\n",
       "ACT New Zealand                          9\n",
       "New Zealand First Party                  8\n",
       "Green Party of Aotearoa New Zealand      8\n",
       "Māori Party                              6\n",
       "United Future New Zealand                4\n",
       "The Alliance                             3\n",
       "New Zealand Democratic Party             2\n",
       "Jim Anderton’s Progressive Coalition     1\n",
       "Jim Anderton’s Progressive               1\n",
       "Progressive Party                        1\n",
       "Mana Party                               1\n",
       "Name: partyname, dtype: int64"
      ]
     },
     "execution_count": 9,
     "metadata": {},
     "output_type": "execute_result"
    }
   ],
   "source": [
    "cmp_df.loc[(cmp_df['countryname'] == 'New Zealand'), 'partyname'].value_counts()"
   ]
  },
  {
   "cell_type": "code",
   "execution_count": 10,
   "id": "90dc3a9f",
   "metadata": {},
   "outputs": [],
   "source": [
    "party_df = df.loc[df['party'].isna() == False]"
   ]
  },
  {
   "cell_type": "code",
   "execution_count": 11,
   "id": "366d1d62",
   "metadata": {
    "scrolled": false
   },
   "outputs": [
    {
     "data": {
      "text/plain": [
       "2853    90\n",
       "Name: parfam, dtype: int64"
      ]
     },
     "execution_count": 11,
     "metadata": {},
     "output_type": "execute_result"
    }
   ],
   "source": [
    "cmp_df.loc[(cmp_df['countryname'] == 'New Zealand') & (cmp_df['partyname'] == 'Mana Party'), 'parfam']"
   ]
  },
  {
   "cell_type": "code",
   "execution_count": 12,
   "id": "a5506f93",
   "metadata": {
    "scrolled": false
   },
   "outputs": [
    {
     "data": {
      "text/plain": [
       "National                    329562\n",
       "Labour                      325685\n",
       "NZ First                     53848\n",
       "ACT                          32087\n",
       "Green                        28119\n",
       "Alliance                     13059\n",
       "United Future                 6880\n",
       "Maori                         5456\n",
       "Progressive                   2001\n",
       "United NZ                     1635\n",
       "Independent                    981\n",
       "Mauri Pacific                  806\n",
       "NewLabour                      417\n",
       "Christian Democrat Party       264\n",
       "Te Tawharau                    241\n",
       "Mana                           189\n",
       "Liberal                        172\n",
       "Conservative Party             135\n",
       "Future                          46\n",
       "Christian Heritage Party        39\n",
       "Mana Wahine                     12\n",
       "Name: party, dtype: int64"
      ]
     },
     "execution_count": 12,
     "metadata": {},
     "output_type": "execute_result"
    }
   ],
   "source": [
    "party_df['party'].value_counts()"
   ]
  },
  {
   "cell_type": "code",
   "execution_count": 13,
   "id": "692038d7",
   "metadata": {},
   "outputs": [],
   "source": [
    "# Partyfam 10, 20, 30\n",
    "left_list = ['Labour', 'Greens', 'Alliance', 'NewLabour']\n",
    "\n",
    "# "
   ]
  },
  {
   "cell_type": "code",
   "execution_count": 14,
   "id": "11524d25",
   "metadata": {
    "scrolled": true
   },
   "outputs": [
    {
     "name": "stderr",
     "output_type": "stream",
     "text": [
      "/tmp/ipykernel_5745/3910170133.py:1: SettingWithCopyWarning: \n",
      "A value is trying to be set on a copy of a slice from a DataFrame.\n",
      "Try using .loc[row_indexer,col_indexer] = value instead\n",
      "\n",
      "See the caveats in the documentation: https://pandas.pydata.org/pandas-docs/stable/user_guide/indexing.html#returning-a-view-versus-a-copy\n",
      "  party_df['left'] = 0\n"
     ]
    }
   ],
   "source": [
    "party_df['left'] = 0"
   ]
  },
  {
   "cell_type": "code",
   "execution_count": 15,
   "id": "6e4761d0",
   "metadata": {},
   "outputs": [],
   "source": [
    "party_df.loc[party_df['party'].isin(left_list), 'left'] = 1"
   ]
  },
  {
   "cell_type": "code",
   "execution_count": 16,
   "id": "dceb4aa9",
   "metadata": {},
   "outputs": [
    {
     "data": {
      "text/plain": [
       "0    462473\n",
       "1    339161\n",
       "Name: left, dtype: int64"
      ]
     },
     "execution_count": 16,
     "metadata": {},
     "output_type": "execute_result"
    }
   ],
   "source": [
    "party_df['left'].value_counts()"
   ]
  },
  {
   "cell_type": "code",
   "execution_count": 17,
   "id": "151c82aa",
   "metadata": {},
   "outputs": [],
   "source": [
    "party_df = party_df.loc[party_df['terms'] > 40]"
   ]
  },
  {
   "cell_type": "code",
   "execution_count": 18,
   "id": "dd220de4",
   "metadata": {},
   "outputs": [],
   "source": [
    "party_df.to_json('nzl_party_df.json')"
   ]
  },
  {
   "cell_type": "markdown",
   "id": "636eaf4d",
   "metadata": {},
   "source": [
    "socio-economic (class); religious (church–state); ethnic (center–periphery); urban–rural; post-materialist; and foreign policy"
   ]
  },
  {
   "cell_type": "code",
   "execution_count": 18,
   "id": "bf5e8c77",
   "metadata": {},
   "outputs": [],
   "source": [
    "def preprocess(text):\n",
    "    'Creating preprocessing pipeline'\n",
    "\n",
    "    # Lowercasing\n",
    "    text = text.lower()\n",
    "\n",
    "    # Removing punctuation\n",
    "    text = re.sub(r'[()\\.\\,\\?\\!\\\"\\'\\-\\`\\:\\;\\\\\\%\\*\\[\\]]+','', text)\n",
    "\n",
    "    return text"
   ]
  },
  {
   "cell_type": "code",
   "execution_count": 19,
   "id": "9a99afac",
   "metadata": {},
   "outputs": [],
   "source": [
    "nlp = spacy.load(\"xx_sent_ud_sm\")\n",
    "def token(text):\n",
    "    doc = nlp(text)\n",
    "    return [token.text for token in doc]"
   ]
  },
  {
   "cell_type": "code",
   "execution_count": 20,
   "id": "46332391",
   "metadata": {},
   "outputs": [],
   "source": [
    "df_preprocessed = party_df['text'].apply(lambda x: preprocess(x))"
   ]
  },
  {
   "cell_type": "code",
   "execution_count": 21,
   "id": "fe741985",
   "metadata": {
    "scrolled": true
   },
   "outputs": [
    {
     "data": {
      "text/plain": [
       "1          i raise a point of order mr speaker i can rai...\n",
       "3          under standing order 76 a business committee ...\n",
       "4          i am obliged to the member certainly we were ...\n",
       "5          it may help the chamber if i indicate to the ...\n",
       "7          i raise a further point of order mr speaker i...\n",
       "                                ...                        \n",
       "925761     i rise with a couple of things on my mind fir...\n",
       "925762     i rise to take a brief call on the rates reba...\n",
       "925763     i will take a short call in the interests of ...\n",
       "925764     it is a pleasure to rise and speak to the rat...\n",
       "925765     can i say what a pleasure it is to have broug...\n",
       "Name: text, Length: 444080, dtype: object"
      ]
     },
     "execution_count": 21,
     "metadata": {},
     "output_type": "execute_result"
    }
   ],
   "source": [
    "df_preprocessed"
   ]
  },
  {
   "cell_type": "code",
   "execution_count": 22,
   "id": "aae1d3d0",
   "metadata": {},
   "outputs": [],
   "source": [
    "# Vectorizing \n",
    "vectorizer = TfidfVectorizer(min_df= 0.0001) # Default N-gram range is (1,1)\n",
    "nzl_features = vectorizer.fit_transform(df_preprocessed)"
   ]
  },
  {
   "cell_type": "code",
   "execution_count": 23,
   "id": "777c3b32",
   "metadata": {},
   "outputs": [],
   "source": [
    "pickle.dump(vectorizer, open(\"nzl_vectorizer.pickle\", \"wb\"))\n",
    "pickle.dump(nzl_features, open(\"nzl_features.pickle\", \"wb\"))"
   ]
  }
 ],
 "metadata": {
  "kernelspec": {
   "display_name": "Python 3 (ipykernel)",
   "language": "python",
   "name": "python3"
  },
  "language_info": {
   "codemirror_mode": {
    "name": "ipython",
    "version": 3
   },
   "file_extension": ".py",
   "mimetype": "text/x-python",
   "name": "python",
   "nbconvert_exporter": "python",
   "pygments_lexer": "ipython3",
   "version": "3.9.13"
  }
 },
 "nbformat": 4,
 "nbformat_minor": 5
}
