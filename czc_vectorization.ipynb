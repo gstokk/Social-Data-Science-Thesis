{
 "cells": [
  {
   "cell_type": "code",
   "execution_count": 1,
   "id": "d7867ea2",
   "metadata": {
    "scrolled": false
   },
   "outputs": [],
   "source": [
    "import pandas as pd\n",
    "import numpy as np\n",
    "import spacy\n",
    "import re\n",
    "import pickle\n",
    "import torch\n",
    "# import cuml\n",
    "\n",
    "from scipy.stats import pearsonr\n",
    "from sklearn.feature_selection import chi2\n",
    "from tqdm import tqdm\n",
    "from sklearn.linear_model import LogisticRegression, LinearRegression\n",
    "from sklearn.model_selection import train_test_split, learning_curve, GridSearchCV\n",
    "from sklearn.feature_extraction.text import TfidfVectorizer\n",
    "from sklearn.metrics import accuracy_score, recall_score, precision_score, f1_score, classification_report\n",
    "from sklearn.metrics import confusion_matrix as cf_matrix"
   ]
  },
  {
   "cell_type": "code",
   "execution_count": 2,
   "id": "0d1bdb7f",
   "metadata": {},
   "outputs": [
    {
     "name": "stdout",
     "output_type": "stream",
     "text": [
      "__CUDNN VERSION: 8500\n",
      "__Number CUDA Devices: 3\n",
      "__CUDA Device Name: Tesla V100-PCIE-32GB\n",
      "__CUDA Device Total Memory [GB]: 34.089926656\n"
     ]
    }
   ],
   "source": [
    "if torch.cuda.is_available():\n",
    "    print('__CUDNN VERSION:', torch.backends.cudnn.version())\n",
    "    print('__Number CUDA Devices:', torch.cuda.device_count())\n",
    "    print('__CUDA Device Name:',torch.cuda.get_device_name(0))\n",
    "    print('__CUDA Device Total Memory [GB]:',torch.cuda.get_device_properties(0).total_memory/1e9)"
   ]
  },
  {
   "cell_type": "code",
   "execution_count": 3,
   "id": "9facd1a4",
   "metadata": {},
   "outputs": [],
   "source": [
    "device = torch.device(\"cuda\" if torch.cuda.is_available() else \"cpu\")"
   ]
  },
  {
   "cell_type": "code",
   "execution_count": 4,
   "id": "46af12e0",
   "metadata": {},
   "outputs": [],
   "source": [
    "df = pd.read_csv(r\"/maps/hdir/gsw508/Thesis/Data/ParlSpeech_V2/Corp_PSP_V2.csv\")"
   ]
  },
  {
   "cell_type": "code",
   "execution_count": 5,
   "id": "808f66f6",
   "metadata": {},
   "outputs": [],
   "source": [
    "cmp_df = pd.read_csv(\"/maps/hdir/gsw508/Thesis/Data/MPDataset_MPDS2022a.csv\")"
   ]
  },
  {
   "cell_type": "code",
   "execution_count": 6,
   "id": "2f5f594b",
   "metadata": {},
   "outputs": [
    {
     "data": {
      "text/plain": [
       "array(['Sweden', 'Norway', 'Denmark', 'Finland', 'Iceland', 'Belgium',\n",
       "       'Netherlands', 'Luxembourg', 'France', 'Italy', 'Spain', 'Greece',\n",
       "       'Portugal', 'Germany', 'Austria', 'Switzerland', 'United Kingdom',\n",
       "       'Northern Ireland', 'Ireland', 'Malta', 'Cyprus', 'United States',\n",
       "       'Canada', 'Australia', 'New Zealand', 'Japan', 'Israel',\n",
       "       'Sri Lanka', 'Turkey', 'Albania', 'Armenia', 'Azerbaijan',\n",
       "       'Belarus', 'Bosnia-Herzegovina', 'Bulgaria', 'Croatia',\n",
       "       'Czech Republic', 'Estonia', 'Georgia',\n",
       "       'German Democratic Republic', 'Hungary', 'Latvia', 'Lithuania',\n",
       "       'North Macedonia', 'Moldova', 'Montenegro', 'Poland', 'Romania',\n",
       "       'Russia', 'Serbia', 'Slovakia', 'Slovenia', 'Ukraine',\n",
       "       'South Korea', 'Mexico', 'South Africa'], dtype=object)"
      ]
     },
     "execution_count": 6,
     "metadata": {},
     "output_type": "execute_result"
    }
   ],
   "source": [
    "cmp_df['countryname'].unique()"
   ]
  },
  {
   "cell_type": "code",
   "execution_count": 7,
   "id": "94aafe7e",
   "metadata": {},
   "outputs": [
    {
     "data": {
      "text/plain": [
       "ČSSD              8\n",
       "ODS               8\n",
       "KDU-ČSL           7\n",
       "KSČM              7\n",
       "SPR-RSČ           4\n",
       "TOP09             3\n",
       "SZ                3\n",
       "HSD-SMS           2\n",
       "ODA               2\n",
       "ANO               2\n",
       "DŽJ               2\n",
       "KDU-ČSL-US-DEU    1\n",
       "SPD               1\n",
       "STAN              1\n",
       "Úsvit             1\n",
       "VV                1\n",
       "KSČ               1\n",
       "US                1\n",
       "OF                1\n",
       "KDS               1\n",
       "LSU               1\n",
       "ODS-KDS           1\n",
       "LB                1\n",
       "KDU               1\n",
       "ČSL               1\n",
       "Piráti            1\n",
       "Name: partyabbrev, dtype: int64"
      ]
     },
     "execution_count": 7,
     "metadata": {},
     "output_type": "execute_result"
    }
   ],
   "source": [
    "cmp_df.loc[(cmp_df['countryname'] == 'Czech Republic'), 'partyabbrev'].value_counts()"
   ]
  },
  {
   "cell_type": "code",
   "execution_count": 8,
   "id": "90dc3a9f",
   "metadata": {},
   "outputs": [],
   "source": [
    "party_df = df.loc[df['party'].isna() == False]"
   ]
  },
  {
   "cell_type": "code",
   "execution_count": 9,
   "id": "366d1d62",
   "metadata": {
    "scrolled": false
   },
   "outputs": [
    {
     "data": {
      "text/plain": [
       "3627    90\n",
       "3637    90\n",
       "Name: parfam, dtype: int64"
      ]
     },
     "execution_count": 9,
     "metadata": {},
     "output_type": "execute_result"
    }
   ],
   "source": [
    "cmp_df.loc[(cmp_df['countryname'] == 'Czech Republic') & (cmp_df['partyabbrev'] == 'HSD-SMS'), 'parfam']"
   ]
  },
  {
   "cell_type": "code",
   "execution_count": 10,
   "id": "a5506f93",
   "metadata": {},
   "outputs": [
    {
     "data": {
      "text/plain": [
       "ODS                    98520\n",
       "ČSSD                   98220\n",
       "KSČM                   35830\n",
       "KDU-ČSL                32639\n",
       "other                  13334\n",
       "TOP 09 a Starostové    10912\n",
       "ODA                     8169\n",
       "TOP09                   7999\n",
       "ANO                     4302\n",
       "VV                      4194\n",
       "US                      2821\n",
       "Nezařazení              2290\n",
       "SPR-RSČ                 2276\n",
       "KDS                     2271\n",
       "Úsvit                   1541\n",
       "US-DEU                  1208\n",
       "LB                      1116\n",
       "ČMUS                     543\n",
       "LSU                      464\n",
       "LSNS                     179\n",
       "SZ                       175\n",
       "HSD-SMS                   92\n",
       "Nez.-SZ                   20\n",
       "ONH                       11\n",
       "ČMSS                       7\n",
       "HSDMS                      2\n",
       "Name: party, dtype: int64"
      ]
     },
     "execution_count": 10,
     "metadata": {},
     "output_type": "execute_result"
    }
   ],
   "source": [
    "party_df['party'].value_counts()"
   ]
  },
  {
   "cell_type": "code",
   "execution_count": 11,
   "id": "692038d7",
   "metadata": {},
   "outputs": [],
   "source": [
    "# Partyfam 10, 20, 30\n",
    "left_list = ['ČSSD', 'KSČM', 'LB', 'SZ']\n"
   ]
  },
  {
   "cell_type": "code",
   "execution_count": 12,
   "id": "11524d25",
   "metadata": {
    "scrolled": true
   },
   "outputs": [],
   "source": [
    "party_df['left'] = 0"
   ]
  },
  {
   "cell_type": "code",
   "execution_count": 13,
   "id": "6e4761d0",
   "metadata": {},
   "outputs": [],
   "source": [
    "party_df.loc[party_df['party'].isin(left_list), 'left'] = 1"
   ]
  },
  {
   "cell_type": "code",
   "execution_count": 14,
   "id": "dceb4aa9",
   "metadata": {},
   "outputs": [
    {
     "data": {
      "text/plain": [
       "0    193794\n",
       "1    135341\n",
       "Name: left, dtype: int64"
      ]
     },
     "execution_count": 14,
     "metadata": {},
     "output_type": "execute_result"
    }
   ],
   "source": [
    "party_df['left'].value_counts()"
   ]
  },
  {
   "cell_type": "code",
   "execution_count": 15,
   "id": "6553a269",
   "metadata": {},
   "outputs": [],
   "source": [
    "party_df = party_df.loc[party_df['terms'] > 40]"
   ]
  },
  {
   "cell_type": "code",
   "execution_count": 16,
   "id": "fba8d211",
   "metadata": {},
   "outputs": [],
   "source": [
    "party_df.to_json('csz_party_df.json')"
   ]
  },
  {
   "cell_type": "markdown",
   "id": "636eaf4d",
   "metadata": {},
   "source": [
    "socio-economic (class); religious (church–state); ethnic (center–periphery); urban–rural; post-materialist; and foreign policy"
   ]
  },
  {
   "cell_type": "code",
   "execution_count": 16,
   "id": "bf5e8c77",
   "metadata": {},
   "outputs": [],
   "source": [
    "def preprocess(text):\n",
    "    'Creating preprocessing pipeline'\n",
    "\n",
    "    # Lowercasing\n",
    "    text = text.lower()\n",
    "\n",
    "    # Removing punctuation\n",
    "    text = re.sub(r'[()\\.\\,\\?\\!\\\"\\'\\-\\`\\:\\;\\\\\\%\\*\\[\\]]+','', text)\n",
    "\n",
    "    return text"
   ]
  },
  {
   "cell_type": "code",
   "execution_count": 17,
   "id": "9a99afac",
   "metadata": {},
   "outputs": [],
   "source": [
    "nlp = spacy.load(\"xx_sent_ud_sm\")\n",
    "def token(text):\n",
    "    doc = nlp(text)\n",
    "    return [token.text for token in doc]"
   ]
  },
  {
   "cell_type": "code",
   "execution_count": 18,
   "id": "46332391",
   "metadata": {},
   "outputs": [],
   "source": [
    "df_preprocessed = party_df['text'].apply(lambda x: preprocess(x))"
   ]
  },
  {
   "cell_type": "code",
   "execution_count": 19,
   "id": "fe741985",
   "metadata": {
    "scrolled": true
   },
   "outputs": [
    {
     "data": {
      "text/plain": [
       "0         předseda psp milan uhde vážené paní poslankyně...\n",
       "2         předseda psp milan uhde vážený pane předsedo v...\n",
       "4         předseda vlády čr václav klaus  vážené paní po...\n",
       "6         předseda psp milan uhde prohlášení české národ...\n",
       "7         místopředseda psp jiří vlach děkuji předsedovi...\n",
       "                                ...                        \n",
       "329129    poslanec zbyněk stanjura  já mám procedurální ...\n",
       "329130    místopředseda psp vojtěch filip  to bude jiná ...\n",
       "329131    poslanec zbyněk stanjura  děkuji  já to plně r...\n",
       "329133    poslanec františek laudát  děkuji za slovo  ne...\n",
       "329134    místopředseda psp vojtěch filip  vážené paní a...\n",
       "Name: text, Length: 195470, dtype: object"
      ]
     },
     "execution_count": 19,
     "metadata": {},
     "output_type": "execute_result"
    }
   ],
   "source": [
    "df_preprocessed"
   ]
  },
  {
   "cell_type": "code",
   "execution_count": 20,
   "id": "aae1d3d0",
   "metadata": {},
   "outputs": [],
   "source": [
    "# Vectorizing \n",
    "vectorizer = TfidfVectorizer(min_df= 0.0001) # Default N-gram range is (1,1)\n",
    "czc_features = vectorizer.fit_transform(df_preprocessed)"
   ]
  },
  {
   "cell_type": "code",
   "execution_count": 21,
   "id": "777c3b32",
   "metadata": {},
   "outputs": [],
   "source": [
    "pickle.dump(vectorizer, open(\"czc_vectorizer.pickle\", \"wb\"))\n",
    "pickle.dump(czc_features, open(\"czc_features.pickle\", \"wb\"))"
   ]
  }
 ],
 "metadata": {
  "kernelspec": {
   "display_name": "Python 3 (ipykernel)",
   "language": "python",
   "name": "python3"
  },
  "language_info": {
   "codemirror_mode": {
    "name": "ipython",
    "version": 3
   },
   "file_extension": ".py",
   "mimetype": "text/x-python",
   "name": "python",
   "nbconvert_exporter": "python",
   "pygments_lexer": "ipython3",
   "version": "3.9.13"
  }
 },
 "nbformat": 4,
 "nbformat_minor": 5
}
