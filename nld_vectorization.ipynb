{
 "cells": [
  {
   "cell_type": "code",
   "execution_count": 1,
   "id": "d7867ea2",
   "metadata": {
    "scrolled": false
   },
   "outputs": [],
   "source": [
    "import pandas as pd\n",
    "import numpy as np\n",
    "import spacy\n",
    "import re\n",
    "import pickle\n",
    "import torch\n",
    "# import cuml\n",
    "\n",
    "from scipy.stats import pearsonr\n",
    "from sklearn.feature_selection import chi2\n",
    "from tqdm import tqdm\n",
    "from sklearn.linear_model import LogisticRegression, LinearRegression\n",
    "from sklearn.model_selection import train_test_split, learning_curve, GridSearchCV\n",
    "from sklearn.feature_extraction.text import TfidfVectorizer\n",
    "from sklearn.metrics import accuracy_score, recall_score, precision_score, f1_score, classification_report\n",
    "from sklearn.metrics import confusion_matrix as cf_matrix"
   ]
  },
  {
   "cell_type": "code",
   "execution_count": 2,
   "id": "0d1bdb7f",
   "metadata": {},
   "outputs": [
    {
     "name": "stdout",
     "output_type": "stream",
     "text": [
      "__CUDNN VERSION: 8500\n",
      "__Number CUDA Devices: 3\n",
      "__CUDA Device Name: Tesla V100-PCIE-32GB\n",
      "__CUDA Device Total Memory [GB]: 34.089926656\n"
     ]
    }
   ],
   "source": [
    "if torch.cuda.is_available():\n",
    "    print('__CUDNN VERSION:', torch.backends.cudnn.version())\n",
    "    print('__Number CUDA Devices:', torch.cuda.device_count())\n",
    "    print('__CUDA Device Name:',torch.cuda.get_device_name(0))\n",
    "    print('__CUDA Device Total Memory [GB]:',torch.cuda.get_device_properties(0).total_memory/1e9)"
   ]
  },
  {
   "cell_type": "code",
   "execution_count": 3,
   "id": "9facd1a4",
   "metadata": {},
   "outputs": [],
   "source": [
    "device = torch.device(\"cuda\" if torch.cuda.is_available() else \"cpu\")"
   ]
  },
  {
   "cell_type": "code",
   "execution_count": 4,
   "id": "46af12e0",
   "metadata": {},
   "outputs": [],
   "source": [
    "df = pd.read_csv(r\"/maps/hdir/gsw508/Thesis/Data/ParlSpeech_V2/Corp_TweedeKamer_V2.csv\")"
   ]
  },
  {
   "cell_type": "code",
   "execution_count": 5,
   "id": "808f66f6",
   "metadata": {},
   "outputs": [],
   "source": [
    "cmp_df = pd.read_csv(\"/maps/hdir/gsw508/Thesis/Data/MPDataset_MPDS2022a.csv\")"
   ]
  },
  {
   "cell_type": "code",
   "execution_count": 6,
   "id": "2f5f594b",
   "metadata": {},
   "outputs": [
    {
     "data": {
      "text/plain": [
       "array(['Sweden', 'Norway', 'Denmark', 'Finland', 'Iceland', 'Belgium',\n",
       "       'Netherlands', 'Luxembourg', 'France', 'Italy', 'Spain', 'Greece',\n",
       "       'Portugal', 'Germany', 'Austria', 'Switzerland', 'United Kingdom',\n",
       "       'Northern Ireland', 'Ireland', 'Malta', 'Cyprus', 'United States',\n",
       "       'Canada', 'Australia', 'New Zealand', 'Japan', 'Israel',\n",
       "       'Sri Lanka', 'Turkey', 'Albania', 'Armenia', 'Azerbaijan',\n",
       "       'Belarus', 'Bosnia-Herzegovina', 'Bulgaria', 'Croatia',\n",
       "       'Czech Republic', 'Estonia', 'Georgia',\n",
       "       'German Democratic Republic', 'Hungary', 'Latvia', 'Lithuania',\n",
       "       'North Macedonia', 'Moldova', 'Montenegro', 'Poland', 'Romania',\n",
       "       'Russia', 'Serbia', 'Slovakia', 'Slovenia', 'Ukraine',\n",
       "       'South Korea', 'Mexico', 'South Africa'], dtype=object)"
      ]
     },
     "execution_count": 6,
     "metadata": {},
     "output_type": "execute_result"
    }
   ],
   "source": [
    "cmp_df['countryname'].unique()"
   ]
  },
  {
   "cell_type": "code",
   "execution_count": 7,
   "id": "94aafe7e",
   "metadata": {},
   "outputs": [
    {
     "data": {
      "text/plain": [
       "PvdA        22\n",
       "VVD         21\n",
       "D’66        16\n",
       "CDA         13\n",
       "SGP         12\n",
       "KVP          9\n",
       "ARP          9\n",
       "CHU          9\n",
       "GL           9\n",
       "SP           8\n",
       "PPR          6\n",
       "CU           6\n",
       "RPF          5\n",
       "GPV          4\n",
       "PvdD         4\n",
       "PVV          4\n",
       "CPN          3\n",
       "DS‘70        3\n",
       "LN           2\n",
       "LPF          2\n",
       "50PLUS       2\n",
       "AOV          1\n",
       "Unie 55+     1\n",
       "PSP          1\n",
       "PvdV         1\n",
       "DENK         1\n",
       "FvD          1\n",
       "Name: partyabbrev, dtype: int64"
      ]
     },
     "execution_count": 7,
     "metadata": {},
     "output_type": "execute_result"
    }
   ],
   "source": [
    "cmp_df.loc[(cmp_df['countryname'] == 'Netherlands'), 'partyabbrev'].value_counts()"
   ]
  },
  {
   "cell_type": "code",
   "execution_count": 8,
   "id": "f3d8ba42",
   "metadata": {
    "scrolled": false
   },
   "outputs": [
    {
     "data": {
      "text/plain": [
       "Labour Party                                22\n",
       "People’s Party for Freedom and Democracy    21\n",
       "Democrats‘66                                16\n",
       "Christian Democratic Appeal                 13\n",
       "Reformed Political Party                    12\n",
       "Catholic People’s Party                      9\n",
       "Anti-Revolutionary Party                     9\n",
       "Christian Historical Union                   9\n",
       "Green Left                                   9\n",
       "Socialist Party                              8\n",
       "Christian Union                              6\n",
       "Radical Political Party                      6\n",
       "Reformatory Political Federation             5\n",
       "Reformed Political League                    4\n",
       "Party for the Animals                        4\n",
       "Party of Freedom                             4\n",
       "Democratic Socialists‘70                     3\n",
       "Communist Party of the Netherlands           3\n",
       "List Pim Fortuyn                             2\n",
       "50Plus                                       2\n",
       "Centre Democrats                             2\n",
       "Livable Netherlands                          2\n",
       "DENK                                         1\n",
       "Centre Party                                 1\n",
       "Union 55+                                    1\n",
       "General Elderly Alliance                     1\n",
       "Pacifist Socialist Party                     1\n",
       "Freedom Party                                1\n",
       "Forum for Democracy                          1\n",
       "Name: partyname, dtype: int64"
      ]
     },
     "execution_count": 8,
     "metadata": {},
     "output_type": "execute_result"
    }
   ],
   "source": [
    "cmp_df.loc[(cmp_df['countryname'] == 'Netherlands'), 'partyname'].value_counts()"
   ]
  },
  {
   "cell_type": "code",
   "execution_count": 9,
   "id": "90dc3a9f",
   "metadata": {},
   "outputs": [],
   "source": [
    "party_df = df.loc[df['party'].isna() == False]"
   ]
  },
  {
   "cell_type": "code",
   "execution_count": 10,
   "id": "366d1d62",
   "metadata": {
    "scrolled": false
   },
   "outputs": [
    {
     "data": {
      "text/plain": [
       "981     30\n",
       "988     30\n",
       "994     30\n",
       "999     30\n",
       "1004    30\n",
       "1009    30\n",
       "1014    30\n",
       "1021    30\n",
       "1029    30\n",
       "1037    30\n",
       "1043    30\n",
       "1050    30\n",
       "1060    30\n",
       "1066    30\n",
       "1076    30\n",
       "1088    30\n",
       "1097    30\n",
       "1107    30\n",
       "1116    30\n",
       "1126    30\n",
       "1136    30\n",
       "1147    30\n",
       "Name: parfam, dtype: int64"
      ]
     },
     "execution_count": 10,
     "metadata": {},
     "output_type": "execute_result"
    }
   ],
   "source": [
    "cmp_df.loc[(cmp_df['countryname'] == 'Netherlands') & (cmp_df['partyabbrev'] == 'PvdA'), 'parfam']"
   ]
  },
  {
   "cell_type": "code",
   "execution_count": 11,
   "id": "a5506f93",
   "metadata": {
    "scrolled": true
   },
   "outputs": [
    {
     "data": {
      "text/plain": [
       "VVD       168276\n",
       "PvdA      165516\n",
       "CDA       161799\n",
       "other     131339\n",
       "D66       103579\n",
       "SP         87637\n",
       "GL         81225\n",
       "PVV        38495\n",
       "CU         34177\n",
       "SGP        23460\n",
       "PvdD       10242\n",
       "LPF         6573\n",
       "RPF         5860\n",
       "GPV         5279\n",
       "50PLUS      3221\n",
       "DENK        3021\n",
       "FvD         2034\n",
       "Name: party, dtype: int64"
      ]
     },
     "execution_count": 11,
     "metadata": {},
     "output_type": "execute_result"
    }
   ],
   "source": [
    "party_df['party'].value_counts()"
   ]
  },
  {
   "cell_type": "code",
   "execution_count": 12,
   "id": "692038d7",
   "metadata": {},
   "outputs": [],
   "source": [
    "# Partyfam 10, 20, 30\n",
    "left_list = ['PvdA', 'GL', 'SP', 'DENK',]\n",
    "\n",
    "# ???"
   ]
  },
  {
   "cell_type": "code",
   "execution_count": 13,
   "id": "11524d25",
   "metadata": {
    "scrolled": true
   },
   "outputs": [
    {
     "name": "stderr",
     "output_type": "stream",
     "text": [
      "/tmp/ipykernel_39084/3910170133.py:1: SettingWithCopyWarning: \n",
      "A value is trying to be set on a copy of a slice from a DataFrame.\n",
      "Try using .loc[row_indexer,col_indexer] = value instead\n",
      "\n",
      "See the caveats in the documentation: https://pandas.pydata.org/pandas-docs/stable/user_guide/indexing.html#returning-a-view-versus-a-copy\n",
      "  party_df['left'] = 0\n"
     ]
    }
   ],
   "source": [
    "party_df['left'] = 0"
   ]
  },
  {
   "cell_type": "code",
   "execution_count": 14,
   "id": "6e4761d0",
   "metadata": {},
   "outputs": [],
   "source": [
    "party_df.loc[party_df['party'].isin(left_list), 'left'] = 1"
   ]
  },
  {
   "cell_type": "code",
   "execution_count": 15,
   "id": "dceb4aa9",
   "metadata": {},
   "outputs": [
    {
     "data": {
      "text/plain": [
       "0    694334\n",
       "1    337399\n",
       "Name: left, dtype: int64"
      ]
     },
     "execution_count": 15,
     "metadata": {},
     "output_type": "execute_result"
    }
   ],
   "source": [
    "party_df['left'].value_counts()"
   ]
  },
  {
   "cell_type": "code",
   "execution_count": 16,
   "id": "151c82aa",
   "metadata": {},
   "outputs": [],
   "source": [
    "party_df = party_df.loc[party_df['terms'] > 40]"
   ]
  },
  {
   "cell_type": "code",
   "execution_count": 17,
   "id": "57cb0078",
   "metadata": {},
   "outputs": [],
   "source": [
    "party_df.to_json('nld_party_df.json')"
   ]
  },
  {
   "cell_type": "markdown",
   "id": "636eaf4d",
   "metadata": {},
   "source": [
    "socio-economic (class); religious (church–state); ethnic (center–periphery); urban–rural; post-materialist; and foreign policy"
   ]
  },
  {
   "cell_type": "code",
   "execution_count": 17,
   "id": "bf5e8c77",
   "metadata": {},
   "outputs": [],
   "source": [
    "def preprocess(text):\n",
    "    'Creating preprocessing pipeline'\n",
    "\n",
    "    # Lowercasing\n",
    "    text = text.lower()\n",
    "\n",
    "    # Removing punctuation\n",
    "    text = re.sub(r'[()\\.\\,\\?\\!\\\"\\'\\-\\`\\:\\;\\\\\\%\\*\\[\\]]+','', text)\n",
    "\n",
    "    return text"
   ]
  },
  {
   "cell_type": "code",
   "execution_count": 18,
   "id": "9a99afac",
   "metadata": {},
   "outputs": [],
   "source": [
    "nlp = spacy.load(\"xx_sent_ud_sm\")\n",
    "def token(text):\n",
    "    doc = nlp(text)\n",
    "    return [token.text for token in doc]"
   ]
  },
  {
   "cell_type": "code",
   "execution_count": 19,
   "id": "46332391",
   "metadata": {},
   "outputs": [],
   "source": [
    "df_preprocessed = party_df['text'].apply(lambda x: preprocess(x))"
   ]
  },
  {
   "cell_type": "code",
   "execution_count": 20,
   "id": "fe741985",
   "metadata": {
    "scrolled": true
   },
   "outputs": [
    {
     "data": {
      "text/plain": [
       "0          mijnheer de voorzitter ik vertel de minister w...\n",
       "1          mijnheer de voorzitter mag ik allereerst de he...\n",
       "2          mijnheer de voorzitter hoewel ik het antwoord ...\n",
       "3          mijnheer de voorzitter wat is onrechtvaardig o...\n",
       "4          voorzitter afgelopen zaterdag stond in nrc han...\n",
       "                                 ...                        \n",
       "1143345    voorzitter het was een enerverend ao het is al...\n",
       "1143346    het zal u ongetwijfeld interesseren dat wij no...\n",
       "1143348    voorzitter een kleine beginselverklaring een d...\n",
       "1143349    de volgende motie motie de kamer gehoord de be...\n",
       "1143358    ik zou graag weten op basis waarvan de staatss...\n",
       "Name: text, Length: 740015, dtype: object"
      ]
     },
     "execution_count": 20,
     "metadata": {},
     "output_type": "execute_result"
    }
   ],
   "source": [
    "df_preprocessed"
   ]
  },
  {
   "cell_type": "code",
   "execution_count": 21,
   "id": "aae1d3d0",
   "metadata": {},
   "outputs": [],
   "source": [
    "# Vectorizing \n",
    "vectorizer = TfidfVectorizer(min_df= 0.0001) # Default N-gram range is (1,1)\n",
    "nld_features = vectorizer.fit_transform(df_preprocessed)"
   ]
  },
  {
   "cell_type": "code",
   "execution_count": 22,
   "id": "777c3b32",
   "metadata": {},
   "outputs": [],
   "source": [
    "pickle.dump(vectorizer, open(\"nld_vectorizer.pickle\", \"wb\"))\n",
    "pickle.dump(nld_features, open(\"nld_features.pickle\", \"wb\"))"
   ]
  }
 ],
 "metadata": {
  "kernelspec": {
   "display_name": "Python 3 (ipykernel)",
   "language": "python",
   "name": "python3"
  },
  "language_info": {
   "codemirror_mode": {
    "name": "ipython",
    "version": 3
   },
   "file_extension": ".py",
   "mimetype": "text/x-python",
   "name": "python",
   "nbconvert_exporter": "python",
   "pygments_lexer": "ipython3",
   "version": "3.9.13"
  }
 },
 "nbformat": 4,
 "nbformat_minor": 5
}
